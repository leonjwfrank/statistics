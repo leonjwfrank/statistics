{
 "cells": [
  {
   "cell_type": "code",
   "execution_count": 9,
   "metadata": {},
   "outputs": [
    {
     "name": "stdout",
     "output_type": "stream",
     "text": [
      "False\n"
     ]
    },
    {
     "data": {
      "text/plain": [
       "False"
      ]
     },
     "execution_count": 9,
     "metadata": {},
     "output_type": "execute_result"
    }
   ],
   "source": [
    "# 可插拔系统\n",
    "\n",
    "from pluggy import PluginManager, HookimplMarker\n",
    "\n",
    "hookimpl = HookimplMarker(\"myproject\")\n",
    "\n",
    "\n",
    "class Plugin1(object):\n",
    "    @hookimpl\n",
    "    def myhook(self, args):\n",
    "        \"\"\"Default implementation.\n",
    "        \"\"\"\n",
    "        return 1\n",
    "\n",
    "\n",
    "class Plugin2(object):\n",
    "    @hookimpl\n",
    "    def myhook(self, args):\n",
    "        \"\"\"Default implementation.\n",
    "        \"\"\"\n",
    "        return 2\n",
    "\n",
    "\n",
    "class Plugin3(object):\n",
    "    @hookimpl\n",
    "    def myhook(self, args):\n",
    "        \"\"\"Default implementation.\n",
    "        \"\"\"\n",
    "        return 3\n",
    "\n",
    "\n",
    "pm = PluginManager(\"myproject\")\n",
    "pm.register(Plugin1())\n",
    "pm.register(Plugin2())\n",
    "pm.register(Plugin3())\n",
    "print(pm.hook.myhook(args=()) != [3, 2, 1])\n",
    "pm.hook.myhook(args=()) != [3, 2, 1]"
   ]
  },
  {
   "cell_type": "code",
   "execution_count": 18,
   "metadata": {},
   "outputs": [
    {
     "name": "stdout",
     "output_type": "stream",
     "text": [
      "[]\n"
     ]
    }
   ],
   "source": [
    "# 让我们在一个模块中演示核心功能，并展示如何开始尝试即插即用功能。\n",
    "import pluggy\n",
    "\n",
    "hookspec = pluggy.HookspecMarker(\"myproject\")\n",
    "hookimpl = pluggy.HookimplMarker(\"myproject\")\n",
    "\n",
    "\n",
    "class MySpec(object):\n",
    "    \"\"\"A hook specification namespace.\"\"\"\n",
    "\n",
    "    @hookspec\n",
    "    def myhook(self, arg1, arg2):\n",
    "        \"\"\"My special little hook that you can customize.\"\"\"\n",
    "\n",
    "\n",
    "class Plugin_1(object):\n",
    "    \"\"\"A hook implementation namespace.\"\"\"\n",
    "\n",
    "    @hookimpl\n",
    "    def myhook(self, arg1, arg2):\n",
    "        print(\"inside Plugin_1.myhook()\")\n",
    "        return arg1 + arg2\n",
    "\n",
    "\n",
    "class Plugin_2(object):\n",
    "    \"\"\"A 2nd hook implementation namespace.\"\"\"\n",
    "\n",
    "    @hookimpl\n",
    "    def myhook(self, arg1, arg2):\n",
    "        print(\"inside Plugin_2.myhook()\")\n",
    "        return arg1 - arg2\n",
    "\n",
    "\n",
    "# create a manager and add the spec\n",
    "pm = pluggy.PluginManager(\"myproject\")\n",
    "pm.add_hookspecs(MySpec)\n",
    "# register plugins\n",
    "pm.register(Plugin_1())\n",
    "pm.register(Plugin_2())\n",
    "# call our `myhook` hook\n",
    "results = pm.hook.myhook(arg1=1, arg2=2)\n",
    "print(results)"
   ]
  },
  {
   "cell_type": "code",
   "execution_count": 20,
   "metadata": {},
   "outputs": [],
   "source": [
    "# 可插拔完整的示例\n",
    "# 现在，让我们演示一下如何在不确切的场景中发挥作用\n",
    "# 假设我们的宿主程序称为eggsample，其中有一些鸡蛋，并在装有调味品的托盘中盛装。\n",
    "# 众所周知：越多的厨师参与进来，食物越好，所以让我们使该过程可插拔并编写一个插件，该插件可以用一些午餐肉来改善餐点，\n",
    "# 并用午餐肉酱代替牛排酱（反正没人喜欢），这是一件事情。\n",
    "# 命名标记：HookSpecMarker和HookImplMarker必须使用宿主项目的名称进行初始化（setup（）中的name参数）\n",
    "# 为插件项目命名：它们应以<host>-<plugin>的形式命名（例如pytest-xdist），因此我们将插件称为eggsample-spam。\n",
    "# eggsample/eggsample/__init__.py\n",
    "\n",
    "\n"
   ]
  },
  {
   "cell_type": "code",
   "execution_count": 14,
   "metadata": {},
   "outputs": [
    {
     "data": {
      "text/plain": [
       "'HookspecMarker\\n    用于标记功能的装饰器帮助器类是挂钩规范。\\n\\n\\xa0\\xa0\\xa0\\xa0您可以使用project_name实例化它以获得装饰器。\\n\\xa0\\xa0\\xa0\\xa0稍后调用PluginManager.add_hookspecs将发现所有标记的功能\\n\\xa0\\xa0\\xa0\\xa0如果PluginManager使用相同的project_name。'"
      ]
     },
     "execution_count": 14,
     "metadata": {},
     "output_type": "execute_result"
    }
   ],
   "source": [
    "import pluggy\n",
    "import itertools\n",
    "import random\n",
    "from setuptools import setup\n",
    "\n",
    "\n",
    "hookimpl = pluggy.HookimplMarker(\"eggmaker\")\n",
    "\n",
    "hookspec = pluggy.HookspecMarker(\"eggmaker\")\n",
    "\n",
    "\"\"\"Marker to be imported and used in plugins (and for own implementations)\n",
    "标记要导入并在插件中使用（以及用于自己的实现）\"\"\"\n",
    "\n",
    "\n",
    "\"\"\"HookspecMarker\n",
    "    用于标记功能的装饰器帮助器类是挂钩规范。\n",
    "\n",
    "    您可以使用project_name实例化它以获得装饰器。\n",
    "    稍后调用PluginManager.add_hookspecs将发现所有标记的功能\n",
    "    如果PluginManager使用相同的project_name。\"\"\""
   ]
  },
  {
   "cell_type": "code",
   "execution_count": 17,
   "metadata": {},
   "outputs": [
    {
     "name": "stdout",
     "output_type": "stream",
     "text": [
      "Your food. Enjoy some egg, salt, pepper, egg, egg, egg, egg\n",
      "Some condiments? We have pickled walnuts, steak sauce, mushy peas, mint sauce\n"
     ]
    }
   ],
   "source": [
    "class EggSpecs(object):\n",
    "    @hookspec\n",
    "    def eggsample_add_ingredients(ingredients: tuple):\n",
    "        \"\"\"Have a look at the ingredients and offer your own.\n",
    "        Here the caller expects us to return a list.\n",
    "        :param ingredients: the ingredients, don't touch them!\n",
    "        :return: a list of ingredients\n",
    "        \"\"\"\n",
    "        if \"egg\" in ingredients:\n",
    "            spam = [\"lovely spam\", \"wonderous spam\"]\n",
    "        else:\n",
    "            spam = [\"splendiferous spam\", \"magnificent spam\"]\n",
    "        return spam\n",
    "\n",
    "\n",
    "    @hookspec\n",
    "    def eggsample_prep_condiments(condiments: dict):\n",
    "        \"\"\"Reorganize the condiments tray to your heart's content.\n",
    "\n",
    "        :param condiments: some sauces and stuff\n",
    "        :return: a witty comment about your activity\n",
    "        \"\"\"\n",
    "        try:\n",
    "            del condiments[\"steak sauce\"]\n",
    "        except KeyError:\n",
    "            pass\n",
    "        condiments[\"spam sauce\"] = 42\n",
    "        return f\"Now this is what I call a condiments tray!\"\n",
    "\n",
    "class EggLibimpl(object):\n",
    "    @hookimpl\n",
    "    def eggsample_add_ingredients():\n",
    "        spices = [\"salt\", \"pepper\"]\n",
    "        you_can_never_have_enough_eggs = [\"egg\", \"egg\"]\n",
    "        ingredients = spices + you_can_never_have_enough_eggs\n",
    "        return ingredients\n",
    "\n",
    "    @hookimpl\n",
    "    def eggsample_prep_condiments(condiments):\n",
    "        condiments[\"mint sauce\"] = 1\n",
    "    \n",
    "condiments_tray = {\"pickled walnuts\": 13, \"steak sauce\": 4, \"mushy peas\": 2}\n",
    "\n",
    "class EggsellentCook:\n",
    "    FAVORITE_INGREDIENTS = (\"egg\", \"egg\", \"egg\")\n",
    "\n",
    "    def __init__(self, hook):\n",
    "        self.hook = hook\n",
    "        self.ingredients = None\n",
    "\n",
    "    def add_ingredients(self):\n",
    "        results = self.hook.eggsample_add_ingredients(\n",
    "            ingredients=self.FAVORITE_INGREDIENTS\n",
    "        )\n",
    "        my_ingredients = list(self.FAVORITE_INGREDIENTS)\n",
    "        # Each hook returns a list - so we chain this list of lists\n",
    "        other_ingredients = list(itertools.chain(*results))\n",
    "        self.ingredients = my_ingredients + other_ingredients\n",
    "\n",
    "    def prepare_the_food(self):\n",
    "        random.shuffle(self.ingredients)\n",
    "\n",
    "    def serve_the_food(self):\n",
    "        condiment_comments = self.hook.eggsample_prep_condiments(\n",
    "            condiments=condiments_tray\n",
    "        )\n",
    "        print(f\"Your food. Enjoy some {', '.join(self.ingredients)}\")\n",
    "        print(f\"Some condiments? We have {', '.join(condiments_tray.keys())}\")\n",
    "        if any(condiment_comments):\n",
    "            print(\"\\n\".join(condiment_comments))\n",
    "\n",
    "              \n",
    "def main():\n",
    "    pm = get_plugin_manager()\n",
    "    cook = EggsellentCook(pm.hook)\n",
    "    cook.add_ingredients()\n",
    "    cook.prepare_the_food()\n",
    "    cook.serve_the_food()\n",
    "\n",
    "              \n",
    "def get_plugin_manager():\n",
    "    pm = pluggy.PluginManager(\"eggmaker\")\n",
    "    pm.add_hookspecs(EggSpecs)\n",
    "    pm.load_setuptools_entrypoints(\"eggmaker\")\n",
    "    pm.register(EggLibimpl)\n",
    "    return pm\n",
    "\n",
    "if __name__ == \"__main__\":\n",
    "#     setup(name=\"eggmaker-spam\",\n",
    "#         install_requires=\"eggmaker\",\n",
    "#         entry_points={\"eggmaker\": [\"spam = eggmaker_spam\"]},\n",
    "#         py_modules=[\"eggmaker_spam\"],)\n",
    "    main()\n",
    "# Your food. Enjoy some egg, egg, salt, egg, egg, pepper, egg Some condiments? We have pickled walnuts, steak sauce, mushy peas, mint sauce\n",
    "\n",
    "# 有差距plugin后\n",
    "# Your food. Enjoy some egg, lovely spam, salt, egg, egg, egg, wonderous spam, egg, pepper Some condiments? We have pickled walnuts, mushy peas, mint sauce, spam sauce\n",
    "# Now this is what I call a condiments tray!\n",
    "\n",
    "              "
   ]
  },
  {
   "cell_type": "code",
   "execution_count": null,
   "metadata": {
    "scrolled": true
   },
   "outputs": [],
   "source": []
  },
  {
   "cell_type": "code",
   "execution_count": 19,
   "metadata": {},
   "outputs": [
    {
     "ename": "NameError",
     "evalue": "name 'pytest' is not defined",
     "output_type": "error",
     "traceback": [
      "\u001b[0;31m---------------------------------------------------------------------------\u001b[0m",
      "\u001b[0;31mNameError\u001b[0m                                 Traceback (most recent call last)",
      "\u001b[0;32m<ipython-input-19-e5cfa59cb8d8>\u001b[0m in \u001b[0;36m<module>\u001b[0;34m\u001b[0m\n\u001b[1;32m      1\u001b[0m \u001b[0;31m# 在pytest中的使用\u001b[0m\u001b[0;34m\u001b[0m\u001b[0;34m\u001b[0m\u001b[0;34m\u001b[0m\u001b[0m\n\u001b[1;32m      2\u001b[0m \u001b[0;31m# Plugin 1\u001b[0m\u001b[0;34m\u001b[0m\u001b[0;34m\u001b[0m\u001b[0;34m\u001b[0m\u001b[0m\n\u001b[0;32m----> 3\u001b[0;31m \u001b[0;34m@\u001b[0m\u001b[0mpytest\u001b[0m\u001b[0;34m.\u001b[0m\u001b[0mhookimpl\u001b[0m\u001b[0;34m(\u001b[0m\u001b[0mtryfirst\u001b[0m\u001b[0;34m=\u001b[0m\u001b[0;32mTrue\u001b[0m\u001b[0;34m)\u001b[0m\u001b[0;34m\u001b[0m\u001b[0;34m\u001b[0m\u001b[0m\n\u001b[0m\u001b[1;32m      4\u001b[0m \u001b[0;32mdef\u001b[0m \u001b[0mpytest_collection_modifyitems\u001b[0m\u001b[0;34m(\u001b[0m\u001b[0mitems\u001b[0m\u001b[0;34m)\u001b[0m\u001b[0;34m:\u001b[0m\u001b[0;34m\u001b[0m\u001b[0;34m\u001b[0m\u001b[0m\n\u001b[1;32m      5\u001b[0m     \u001b[0;31m# will execute as early as possible\u001b[0m\u001b[0;34m\u001b[0m\u001b[0;34m\u001b[0m\u001b[0;34m\u001b[0m\u001b[0m\n",
      "\u001b[0;31mNameError\u001b[0m: name 'pytest' is not defined"
     ]
    }
   ],
   "source": [
    "# 在pytest中的使用\n",
    "# Plugin 1\n",
    "@pytest.hookimpl(tryfirst=True)\n",
    "def pytest_collection_modifyitems(items):\n",
    "    # will execute as early as possible\n",
    "    ...\n",
    "    \n",
    "# Plugin 2\n",
    "@pytest.hookimpl(trylast=True)\n",
    "def pytest_collection_modifyitems(items):\n",
    "    # will execute as late as possible\n",
    "    ...\n",
    "    \n",
    "# Plugin 2\n",
    "@pytest.hookimpl(hookwrapper=True)\n",
    "def pytest_collection_modifyitems(items):\n",
    "    # will execute even before the tryfirst one above!\n",
    "    outcome = yield\n",
    "    # will execute after all non-hookwrappers executed"
   ]
  },
  {
   "cell_type": "code",
   "execution_count": 20,
   "metadata": {},
   "outputs": [],
   "source": [
    "# content of test_50.py\n",
    "import pytest\n",
    "@pytest.mark.parametrize(\"i\", range(50)) \n",
    "def test_num(i):\n",
    "    if i in (17, 25): pytest.fail(\"bad luck\")"
   ]
  },
  {
   "cell_type": "code",
   "execution_count": 21,
   "metadata": {},
   "outputs": [
    {
     "ename": "NameError",
     "evalue": "name 'q' is not defined",
     "output_type": "error",
     "traceback": [
      "\u001b[0;31m---------------------------------------------------------------------------\u001b[0m",
      "\u001b[0;31mNameError\u001b[0m                                 Traceback (most recent call last)",
      "\u001b[0;32m<ipython-input-21-8ac2377af1d4>\u001b[0m in \u001b[0;36m<module>\u001b[0;34m\u001b[0m\n\u001b[0;32m----> 1\u001b[0;31m \u001b[0mpytest\u001b[0m \u001b[0;34m-\u001b[0m\u001b[0mq\u001b[0m\u001b[0;34m\u001b[0m\u001b[0;34m\u001b[0m\u001b[0m\n\u001b[0m",
      "\u001b[0;31mNameError\u001b[0m: name 'q' is not defined"
     ]
    }
   ],
   "source": [
    "pytest -q"
   ]
  },
  {
   "cell_type": "code",
   "execution_count": null,
   "metadata": {},
   "outputs": [],
   "source": [
    "# content of test_unittest_cleandir.py\n",
    "import pytest\n",
    "import unittest\n",
    "class MyTest(unittest.TestCase): @pytest.fixture(autouse=True) def initdir(self, tmpdir):\n",
    "tmpdir.chdir() # change to pytest-provided temporary directory tmpdir.join(\"samplefile.ini\").write(\"# testdata\")\n",
    "def test_method(self):\n",
    "with open(\"samplefile.ini\") as f:\n",
    "    s = f.read() \n",
    "    assert \"testdata\" in s"
   ]
  },
  {
   "cell_type": "code",
   "execution_count": 25,
   "metadata": {},
   "outputs": [],
   "source": [
    "import pytest\n",
    "@pytest.fixture(scope=\"class\") \n",
    "def db_class(request):\n",
    "    class DummyDB: \n",
    "        # set a class attribute on the invoking test context\n",
    "        # 在调用测试上下文上设置类属性\n",
    "        request.cls.db = DummyDB()"
   ]
  },
  {
   "cell_type": "code",
   "execution_count": 26,
   "metadata": {},
   "outputs": [],
   "source": [
    "import unittest\n",
    "import pytest\n",
    "@pytest.mark.usefixtures(\"db_class\") \n",
    "class MyTest(unittest.TestCase):\n",
    "    def test_method1(self):\n",
    "        assert hasattr(self, \"db\")\n",
    "        assert 0, self.db # fail for demo purposes\n",
    "    def test_method2(self):\n",
    "        assert 0, self.db # fail for demo purposes"
   ]
  },
  {
   "cell_type": "code",
   "execution_count": null,
   "metadata": {},
   "outputs": [],
   "source": []
  }
 ],
 "metadata": {
  "kernelspec": {
   "display_name": "Python 3",
   "language": "python",
   "name": "python3"
  },
  "language_info": {
   "codemirror_mode": {
    "name": "ipython",
    "version": 3
   },
   "file_extension": ".py",
   "mimetype": "text/x-python",
   "name": "python",
   "nbconvert_exporter": "python",
   "pygments_lexer": "ipython3",
   "version": "3.6.8"
  }
 },
 "nbformat": 4,
 "nbformat_minor": 2
}
