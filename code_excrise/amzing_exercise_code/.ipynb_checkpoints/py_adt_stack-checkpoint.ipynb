{
 "cells": [
  {
   "cell_type": "code",
   "execution_count": 1,
   "metadata": {},
   "outputs": [],
   "source": [
    "# 一，py 实现一个栈类, 栈抽象数据的py实现\n",
    "# 栈的基本操作包括，压入，弹出，判断空，大小判断等\n",
    "class Stack(object):\n",
    "    def __init__(self):\n",
    "        self.items = []\n",
    "    def isEmpty(self):\n",
    "        return self.items == []\n",
    "    def push(self, value):\n",
    "        self.items.append(value)      # 此时性能O(1) 比 insert(0, value)  O(n)高\n",
    "    def pop(self):\n",
    "        return self.items.pop()      # 默认弹出栈顶，性能高于 pop(n)  \n",
    "    def peek(self):\n",
    "        return self.items[len(self.items)-1]  # 返回最上层数据\n",
    "    def size(self):\n",
    "        return len(self.items)\n"
   ]
  },
  {
   "cell_type": "code",
   "execution_count": 2,
   "metadata": {},
   "outputs": [
    {
     "name": "stdout",
     "output_type": "stream",
     "text": [
      "[8]\n",
      "8\n",
      "1\n"
     ]
    }
   ],
   "source": [
    "st = Stack()\n",
    "st.push(8)\n",
    "print(st.items)\n",
    "print(st.peek())\n",
    "print(st.size())"
   ]
  },
  {
   "cell_type": "code",
   "execution_count": 3,
   "metadata": {},
   "outputs": [],
   "source": [
    "# 1.1，栈的应用，高级语言的基础算法，简单括号匹配\n",
    "# 栈也可以用于 XML,HTML的成对的关键字匹配校验\n",
    "# 括号一般用来指定表达式的运算优先级，多层括号的层级是否正确如，((()), ())))))\n",
    "# 规则，按栈的方式取值，第一个左括号 匹配 第一个右括号\n",
    "#  推广到 开闭校验，如 html\n",
    "def parChecker(symb_str):\n",
    "    s = Stack()\n",
    "    balanced = True    # 判断是否对称\n",
    "    index = 0\n",
    "    while index < len(symb_str) and balanced:\n",
    "        symb = symb_str[index]\n",
    "        if symb in \"([{\":\n",
    "            s.push(symb)\n",
    "        else:\n",
    "            if s.isEmpty():\n",
    "                balanced = False\n",
    "            else:\n",
    "                top = s.pop()\n",
    "                if not matched(top, symb):   # 右括号是否与原 左括号匹配\n",
    "                    balanced = False\n",
    "        index = index + 1\n",
    "    if balanced and s.isEmpty():\n",
    "        return True\n",
    "    else:\n",
    "        return False\n",
    "    \n",
    "def matched(op, cs):\n",
    "    opens = \"([{\"   # \n",
    "    closers = \")]}\"   # 与opens需要对应\n",
    "    return opens.index(op) == closers.index(cs)"
   ]
  },
  {
   "cell_type": "code",
   "execution_count": 4,
   "metadata": {},
   "outputs": [
    {
     "name": "stdout",
     "output_type": "stream",
     "text": [
      "False\n",
      "True\n"
     ]
    }
   ],
   "source": [
    "print(parChecker('({{[[{]]}})'))\n",
    "print(parChecker('()'))"
   ]
  },
  {
   "cell_type": "code",
   "execution_count": 5,
   "metadata": {},
   "outputs": [
    {
     "name": "stdout",
     "output_type": "stream",
     "text": [
      "False\n",
      "True\n",
      "True\n"
     ]
    }
   ],
   "source": [
    "def parChecker(symb_str):\n",
    "    def matched(op, cs):\n",
    "        opens = \"([{\"   #  左括号\n",
    "        closers = \")]}\"   # 与opens需要对应\n",
    "        return opens.index(op) == closers.index(cs)\n",
    "\n",
    "    s = Stack()\n",
    "    balanced = True    # 判断是否对称\n",
    "    index = 0\n",
    "    while index < len(symb_str) and balanced:\n",
    "        symb = symb_str[index]\n",
    "        if symb in \"([{\":\n",
    "            s.push(symb)\n",
    "        else:\n",
    "            if s.isEmpty():\n",
    "                balanced = False\n",
    "            else:\n",
    "                top = s.pop()\n",
    "                if not matched(top, symb):   # 右括号是否与原 左括号匹配\n",
    "                    balanced = False\n",
    "        index = index + 1\n",
    "    if balanced and s.isEmpty():\n",
    "        return True\n",
    "    else:\n",
    "        return False\n",
    "\n",
    "\n",
    "print(parChecker('({{[[{]]}})'))\n",
    "print(parChecker('()'))\n",
    "print(parChecker('([])'))"
   ]
  },
  {
   "cell_type": "code",
   "execution_count": 6,
   "metadata": {},
   "outputs": [],
   "source": [
    "# 1.2，栈的应用，十进制转化为二进制\n",
    "# 人类常用的计算方法为 十进制，计算机计算方法为二进制\n",
    "# 高级语言算法 会经常对 十进制和二进制进行转换\n",
    "# 十进制转换为二进制，采用的是 除以2求余数的算法\n",
    "# 将整数不断除以2，每次得到的余数就是由低到高 的二进制\n",
    "# 35 / 2  = 17  余 1  -- k0    # 低位\n",
    "# 17 /2 = 8   余   1  -- k1\n",
    "# 8/2 = 4   余  0  -- k2\n",
    "# 4/2 = 2  余  0  -- k3\n",
    "# 2/2 = 1 余  0   -- k4\n",
    "# 1/2 = 0 余  1  --  k5     # 高位"
   ]
  },
  {
   "cell_type": "code",
   "execution_count": 7,
   "metadata": {},
   "outputs": [
    {
     "name": "stdout",
     "output_type": "stream",
     "text": [
      "101010\n",
      "52\n",
      "2A\n"
     ]
    }
   ],
   "source": [
    "def  divideBy2(decNumber, n=None):\n",
    "    \"\"\"10进制转换为2进制，默认\n",
    "    :params  decNumber 要转换的数字\n",
    "    :params n 要转换为的进制，默认为2\"\"\"\n",
    "    digits = \"0123456789ABCDEF\"\n",
    "    if not n:\n",
    "        n = 2\n",
    "    remstack = Stack()    # 栈来处理逆序算法\n",
    "    while decNumber > 0:\n",
    "        rem = decNumber % n       # 求余数\n",
    "        remstack.push(rem)\n",
    "        decNumber = decNumber // n    # 整数除\n",
    "    binString = ''\n",
    "    while not remstack.isEmpty():\n",
    "        binString = binString + digits[remstack.pop()]   # 取相应进制组合成数字\n",
    "    return binString\n",
    "\n",
    "print(divideBy2(42, 2))\n",
    "print(divideBy2(42, 8))\n",
    "print(divideBy2(42, 16))"
   ]
  },
  {
   "cell_type": "code",
   "execution_count": 8,
   "metadata": {},
   "outputs": [],
   "source": [
    "# 1.3，栈的应用，表达式转换\n",
    "# 中缀表达式。A*B 类似这样，操作符介于操作数 operabd 中间的表示法，称为 中缀 表示法\n",
    "# 有括号时，括号表示强制优先级，嵌套括号中，内层优先级更高\n",
    "# 以操作符相对于操作数的位置来定义，\n",
    "# 前缀表达式。+AB， A+B*C  的前缀表达式为   +A*BC\n",
    "# 后缀表达式。AB+,   A+B*C 的后缀表达式为   ABC*+\n",
    "# 中缀 转换为前缀或后缀表达式\n",
    "# 1，中缀表达式 转换为 全括号形式\n",
    "# 2，把运算符移到 左括号(前缀)  或 右括号(后缀)并替换，然后删除所有括号即可\n"
   ]
  },
  {
   "cell_type": "code",
   "execution_count": 9,
   "metadata": {},
   "outputs": [],
   "source": [
    "def infixToPostfix(infixexpr):\n",
    "    prec = {}\n",
    "    prec[\"*\"] = 3\n",
    "    prec[\"/\"] = 3\n",
    "    prec[\"+\"] = 2\n",
    "    prec[\"-\"] = 2\n",
    "    prec[\"(\"] = 1\n",
    "    opStack = Stack()\n",
    "    postfixList = []\n",
    "#     tokenList = infixexpr.split()    # 解析表达式到单词列表\n",
    "    tokenList = list(infixexpr) # .split()    # 解析表达式到单词列表\n",
    "    print('tokenList:{}'.format(tokenList))\n",
    "    words = \"ABCDEFGHIJKLMNOPQRSTUVWXYZ\" \n",
    "    nums = \"0123456789\"\n",
    "    for token in tokenList:\n",
    "        if token in \"ABCDEFGHIJKLMNOPQRSTUVWXYZ\"  or token in \"0123456789\":\n",
    "            postfixList.append(token)        # 操作数\n",
    "            print('num postfixList:{}'.format(postfixList))\n",
    "        elif token == \"(\":\n",
    "            opStack.push(token)\n",
    "            print(' ( postfixList:{}'.format(postfixList))\n",
    "        elif token == \")\":\n",
    "            topToken = opStack.pop()\n",
    "            while topToken != \"(\":\n",
    "                postfixList.append(topToken)\n",
    "                topToken = opStack.pop()\n",
    "                print(' ) postfixList:{}'.format(postfixList))\n",
    "        else:     # 操作符\n",
    "            while (not opStack.isEmpty()) and (prec[opStack.peek()] >= prec[token]):\n",
    "                postfixList.append(opStack.pop())\n",
    "                print('peek postfixList:{}'.format(postfixList))\n",
    "            opStack.push(token)\n",
    "        print('sign postfixList:{}'.format(postfixList))\n",
    "    while not opStack.isEmpty():\n",
    "        postfixList.append(opStack.pop())    # 操作符\n",
    "    print('last postfixList:{}'.format(postfixList))\n",
    "    return \"\".join(postfixList)   # 合成后缀表达式字符"
   ]
  },
  {
   "cell_type": "code",
   "execution_count": 10,
   "metadata": {},
   "outputs": [
    {
     "name": "stdout",
     "output_type": "stream",
     "text": [
      "tokenList:['A', '+', '(', 'B', '*', 'C', ')']\n",
      "num postfixList:['A']\n",
      "sign postfixList:['A']\n",
      "sign postfixList:['A']\n",
      " ( postfixList:['A']\n",
      "sign postfixList:['A']\n",
      "num postfixList:['A', 'B']\n",
      "sign postfixList:['A', 'B']\n",
      "sign postfixList:['A', 'B']\n",
      "num postfixList:['A', 'B', 'C']\n",
      "sign postfixList:['A', 'B', 'C']\n",
      " ) postfixList:['A', 'B', 'C', '*']\n",
      "sign postfixList:['A', 'B', 'C', '*']\n",
      "last postfixList:['A', 'B', 'C', '*', '+']\n",
      "ABC*+\n"
     ]
    }
   ],
   "source": [
    "print(infixToPostfix(\"A+(B*C)\"))"
   ]
  },
  {
   "cell_type": "code",
   "execution_count": 11,
   "metadata": {},
   "outputs": [],
   "source": [
    "# 后缀表达式求值\n",
    "# 由于操作符在后缀表达式的后面，需要暂存操作数，在碰到操作符的时候，再将暂存的两个操作数进行实际的计算，\n",
    "# 利用栈的特点，操作符只作用于离它最近的两个操作数\n",
    "# 如后缀表达式 4 5 6 * +\n",
    "# 1，弹出两个操作数6，5，计算得到结果30， 先弹出的右操作数，后弹出的是左操作数，这对于 -/ 很重要\n",
    "# 2，将30 压入栈顶，继续扫描后面的符号\n",
    "# 3，所以操作符都处理完毕，栈中只留下1个操作数，这个数就是表达式的值\n",
    "\n",
    "# 代码步骤\n",
    "# 创建空栈operandStack 用于 暂存操作数\n",
    "# 将后缀表达式用split 方法解析为单词 token，从左到右扫描单词列表，如果单词是一个操作数，将单词转换为整数int，压入oparandStack 栈顶\n",
    "# 如果单词是一个操作符号 (*/+-), 就开始求值，从栈顶弹出2个操作数，先弹出的是右操作数，计算后重新压入栈顶\n",
    "# 单词扫描结束后，表达式的值就在栈顶\n",
    "# 弹出栈顶的值，返回\n"
   ]
  },
  {
   "cell_type": "code",
   "execution_count": 12,
   "metadata": {},
   "outputs": [],
   "source": [
    "\n",
    "def doMath(op, op1, op2):\n",
    "    if op== '*':\n",
    "        return op1 * op2\n",
    "    elif op == '/':\n",
    "        return op1 / op2\n",
    "    elif op == '+':\n",
    "        return op1 + op2\n",
    "    else:\n",
    "        return op1 - op2\n"
   ]
  },
  {
   "cell_type": "code",
   "execution_count": 13,
   "metadata": {},
   "outputs": [],
   "source": [
    "def  postfixEval(postfixExpr):\n",
    "    operandStack = Stack()\n",
    "    tokenList = list(postfixExpr)  #.split()\n",
    "#     tokenList = postfixExpr.split()\n",
    "    print('tokenList:{}'.format(tokenList))\n",
    "    for token in tokenList:\n",
    "#         if token in \"0123456789\":\n",
    "        if isinstance(token, int): \n",
    "            operandStack.push(int(token))   # 操作数\n",
    "            print('operandStack:{}'.format(operandStack.items))\n",
    "        else:\n",
    "            operand2 = operandStack.pop()\n",
    "            print('pop operand2:{}'.format(operand2))\n",
    "            print('operandStack:{}'.format(operandStack.items))\n",
    "            operand1 = operandStack.pop()\n",
    "            print('pop operand1:{}'.format(operand1))\n",
    "            print('operandStack:{}'.format(operandStack.items))\n",
    "            result = doMath(token, operand1, operand2)   # 操作符\n",
    "            operandStack.push(result)\n",
    "            print('result operandStack:{}'.format(operandStack.items))\n",
    "    rst = operandStack.pop()\n",
    "    print('result:{}'.format(rst))\n",
    "    del operandStack\n",
    "    return rst"
   ]
  },
  {
   "cell_type": "code",
   "execution_count": 16,
   "metadata": {},
   "outputs": [
    {
     "name": "stdout",
     "output_type": "stream",
     "text": [
      "tokenList:['9', '-', '(', '7', '*', '2', ')']\n",
      "num postfixList:['9']\n",
      "sign postfixList:['9']\n",
      "sign postfixList:['9']\n",
      " ( postfixList:['9']\n",
      "sign postfixList:['9']\n",
      "num postfixList:['9', '7']\n",
      "sign postfixList:['9', '7']\n",
      "sign postfixList:['9', '7']\n",
      "num postfixList:['9', '7', '2']\n",
      "sign postfixList:['9', '7', '2']\n",
      " ) postfixList:['9', '7', '2', '*']\n",
      "sign postfixList:['9', '7', '2', '*']\n",
      "last postfixList:['9', '7', '2', '*', '-']\n",
      "back_express:972*-\n"
     ]
    }
   ],
   "source": [
    "back_express = infixToPostfix(\"9-(7*2)\")\n",
    "print('back_express:{}'.format(back_express))\n",
    "# print(postfixEval(back_express))\n",
    "# print(doMath(\"-\", 10, 11))"
   ]
  },
  {
   "cell_type": "code",
   "execution_count": 17,
   "metadata": {},
   "outputs": [],
   "source": [
    "def func1(str1):\n",
    "    s1, s2 = Stack(), Stack()\n",
    "    for char in str1:\n",
    "        s1.push(char)\n",
    "    print('s1:{}'.format(s1))\n",
    "    lst2 = []\n",
    "    while not s1.isEmpty():\n",
    "#         lst2.append(s1.peek())\n",
    "        for i in range(s1.pop()):\n",
    "            s2.push(i)\n",
    "        lst2.append(s2.size())\n",
    "    return lst2\n"
   ]
  },
  {
   "cell_type": "code",
   "execution_count": 18,
   "metadata": {},
   "outputs": [
    {
     "name": "stdout",
     "output_type": "stream",
     "text": [
      "s1:<__main__.Stack object at 0x109ef8160>\n",
      "rst:[9, 16, 21, 24, 25]\n"
     ]
    }
   ],
   "source": [
    "print('rst:{}'.format(func1([1,3,5,7,9])))"
   ]
  },
  {
   "cell_type": "code",
   "execution_count": 19,
   "metadata": {},
   "outputs": [],
   "source": [
    "# test pytest\n",
    "# content of test_sample.py\n",
    "def func(x):\n",
    "    return x + 1\n",
    "def test_answer():\n",
    "    assert func(3) == 5"
   ]
  },
  {
   "cell_type": "code",
   "execution_count": null,
   "metadata": {},
   "outputs": [],
   "source": [
    "# 二，队列 Queue\n",
    "#  代码示例\n",
    "class Queue(object):\n",
    "    def __init__(self):\n",
    "        self.item = []\n",
    "    def isEmpty(self):\n",
    "        return self.item == []\n",
    "    def enqueue(self, item):\n",
    "        self.items.insert(0, item)      # O(n)\n",
    "    def dequeue(self):\n",
    "        return self.items.pop()     #O(1)\n",
    "    def size(self):\n",
    "        return len(self.items)\n",
    "    "
   ]
  },
  {
   "cell_type": "code",
   "execution_count": 21,
   "metadata": {},
   "outputs": [
    {
     "name": "stdout",
     "output_type": "stream",
     "text": [
      "lis:[1, 3, 5, 7, 9]\n",
      "lis:[3, 5, 7, 9]\n",
      "lis:[5, 7, 9]\n",
      "lis:[7, 9]\n",
      "25\n"
     ]
    }
   ],
   "source": [
    "# 四 递归\n",
    "# 数列求和\n",
    "def listsum(lis):\n",
    "        # 递归调用\n",
    "        if len(lis) == 1:\n",
    "            return lis[0]\n",
    "        else:\n",
    "            print('lis:{}'.format(lis))\n",
    "            return lis[0] + listsum(lis[1:])\n",
    "\n",
    "print(listsum([1,3,5,7,9]))\n"
   ]
  },
  {
   "cell_type": "code",
   "execution_count": 23,
   "metadata": {
    "scrolled": true
   },
   "outputs": [
    {
     "name": "stdout",
     "output_type": "stream",
     "text": [
      "5AD\n",
      "10110101101\n",
      "2655\n",
      "1453\n"
     ]
    }
   ],
   "source": [
    "# 递归 实现 十进制到任意进制的转换\n",
    "def toStr(n, base):\n",
    "    convertString = \"0123456789ABCDEF\"\n",
    "    if n < base:\n",
    "        return convertString[n]  # 小于进制，直接查表返回\n",
    "    else:\n",
    "        return toStr(n // base, base) + convertString[n%base]\n",
    "\n",
    "# 16进制转换\n",
    "print(toStr(1453,16))\n",
    "print(toStr(1453,2))\n",
    "print(toStr(1453,8))\n",
    "print(toStr(1453,10))\n",
    "    "
   ]
  },
  {
   "cell_type": "code",
   "execution_count": 3,
   "metadata": {},
   "outputs": [],
   "source": [
    "# 分形树 -- 递归\n",
    "# 正方形和五角星\n",
    "import turtle\n",
    "# 作图开始，t.forward 指挥海龟作图\n",
    "\n",
    "# t.forward(100)  # 拉出一个100的直线\n",
    "def close_turtle():\n",
    "    turtle.done()\n",
    "    \n",
    "def square():\n",
    "    t = turtle.Turtle()\n",
    "    for i in range(4):  # 绘制一个正方形\n",
    "        t.forward(100)  # 向前100\n",
    "        t.right(90)   # 右转90度\n",
    "    close_turtle()\n",
    "\n",
    "def red_Pentagram():\n",
    "    t = turtle.Turtle()\n",
    "    t.pencolor('red')\n",
    "    t.pensize(3)\n",
    "    for i in range(5):\n",
    "        t.forward(100)\n",
    "        t.right(144)  # 五角星\n",
    "    t.hideturtle()    # 完成后隐藏海龟\n",
    "    close_turtle()"
   ]
  },
  {
   "cell_type": "code",
   "execution_count": 2,
   "metadata": {},
   "outputs": [],
   "source": [
    "red_Pentagram()  # 五角星"
   ]
  },
  {
   "cell_type": "code",
   "execution_count": 1,
   "metadata": {},
   "outputs": [],
   "source": [
    "def drawSpiral(t, lineLen):\n",
    "    if lineLen >0:   # 最小退出\n",
    "        t.forward(lineLen)\n",
    "        t.right(90)\n",
    "        drawSpiral(t, lineLen -5 )  # 规模减少"
   ]
  },
  {
   "cell_type": "code",
   "execution_count": 2,
   "metadata": {},
   "outputs": [],
   "source": [
    "import turtle\n",
    "t1 = turtle.Turtle()\n",
    "drawSpiral(t1, 200)  \n",
    "turtle.done()"
   ]
  },
  {
   "cell_type": "code",
   "execution_count": 7,
   "metadata": {},
   "outputs": [
    {
     "name": "stdout",
     "output_type": "stream",
     "text": [
      "x:1\n",
      "x:2\n",
      "x:3\n",
      "x:4\n",
      "x:5\n",
      "x:6\n",
      "12000\n"
     ]
    }
   ],
   "source": [
    "#  谢尔宾斯三角形和走出迷宫\n",
    "x= 0 \n",
    "def toStr2(n, base):\n",
    "    global x\n",
    "    x = x + 1\n",
    "    print('x:{}'.format(x))\n",
    "    convertString='0123456789ABCDEF'\n",
    "    if n == 0:\n",
    "        return ''\n",
    "    return toStr2(n // base, base) + convertString[n % base]\n",
    "print(toStr2(135, 3))"
   ]
  },
  {
   "cell_type": "code",
   "execution_count": 19,
   "metadata": {},
   "outputs": [],
   "source": [
    "x = 0\n",
    "def match(s, n=0):\n",
    "    global x\n",
    "    x = x+ 1\n",
    "    print('x:{}'.format(x))\n",
    "    if s:\n",
    "        if s[0] == '(':\n",
    "            n += 1\n",
    "        else:\n",
    "            n -= 1\n",
    "            if n < 0:\n",
    "                return False\n",
    "        return match(s[1:], n)\n",
    "    else:\n",
    "        return n == 0\n"
   ]
  },
  {
   "cell_type": "code",
   "execution_count": 20,
   "metadata": {},
   "outputs": [
    {
     "name": "stdout",
     "output_type": "stream",
     "text": [
      "x:1\n",
      "x:2\n",
      "x:3\n",
      "x:4\n",
      "x:5\n",
      "x:6\n",
      "x:7\n"
     ]
    },
    {
     "data": {
      "text/plain": [
       "False"
      ]
     },
     "execution_count": 20,
     "metadata": {},
     "output_type": "execute_result"
    }
   ],
   "source": [
    "match(\"((()))\", 3)"
   ]
  },
  {
   "cell_type": "code",
   "execution_count": 21,
   "metadata": {},
   "outputs": [
    {
     "name": "stdout",
     "output_type": "stream",
     "text": [
      "x:1\n",
      "x:2\n",
      "x:3\n",
      "x:4\n",
      "x:5\n",
      "x:6\n",
      "x:7\n",
      "True\n",
      "x:1\n",
      "x:2\n",
      "x:3\n",
      "x:4\n",
      "x:5\n",
      "x:6\n",
      "x:7\n",
      "x:8\n",
      "x:9\n",
      "True\n",
      "x:1\n",
      "x:2\n",
      "x:3\n",
      "x:4\n",
      "x:5\n",
      "x:6\n",
      "x:7\n",
      "x:8\n",
      "x:9\n",
      "x:10\n",
      "x:11\n",
      "x:12\n",
      "False\n",
      "x:1\n",
      "x:2\n",
      "x:3\n",
      "x:4\n",
      "x:5\n",
      "x:6\n",
      "x:7\n",
      "x:8\n",
      "x:9\n",
      "x:10\n",
      "False\n"
     ]
    }
   ],
   "source": [
    "x = 0\n",
    "print(match(\"((()))\"))\n",
    "x = 0\n",
    "print(match(\"()((()))\"))\n",
    "x = 0\n",
    "print(match(\"(((()((()))\"))\n",
    "x = 0\n",
    "print(match(\"((()))(((\"))"
   ]
  },
  {
   "cell_type": "code",
   "execution_count": 23,
   "metadata": {},
   "outputs": [],
   "source": [
    "# 练习题，50枝叶的分形树\n",
    "import turtle\n",
    "t = turtle.Turtle()\n",
    "def tree(branch_len):\n",
    "    t.pendown()\n",
    "    t.forward(branch_len)\n",
    "    t.penup()\n",
    "    if branch_len > 5:\n",
    "        t.left(20)\n",
    "        tree(branch_len - 5)  # 45 35 25 15 5\n",
    "        t.right(40)\n",
    "        tree(branch_len - 5)  # 40 30  20  10\n",
    "        t.left(20) \n",
    "    t.backward(branch_len)\n",
    "tree(50)"
   ]
  },
  {
   "cell_type": "code",
   "execution_count": 41,
   "metadata": {},
   "outputs": [],
   "source": [
    "class Stack(object):\n",
    "    def __init__(self):\n",
    "        self.items = []\n",
    "    def isEmpty(self):\n",
    "        return self.items == []\n",
    "    def push(self, value):\n",
    "        self.items.append(value)      # 此时性能O(1) 比 insert(0, value)  O(n)高\n",
    "    def pop(self):\n",
    "        return self.items.pop()      # 默认弹出栈顶，性能高于 pop(n)\n",
    "    def peek(self):\n",
    "        return self.items[len(self.items)-1]  # 返回最上层数据\n",
    "    def size(self):\n",
    "        return len(self.items)\n",
    "    \n",
    "def transform(decNumber, dn=None):\n",
    "    \"\"\"10进制转换为任意进制(2~36)\"\"\"\n",
    "    digits = \"0123456789ABCDEFGHIJKLMNOPQRSTUVWXYZ\"\n",
    "    if not dn:\n",
    "        dn = 2\n",
    "    remstack = Stack()    # 栈来处理逆序算法\n",
    "    while decNumber > 0:\n",
    "        rem = decNumber % dn       # 求余数\n",
    "        remstack.push(rem)\n",
    "        decNumber = decNumber // dn    # 整数除\n",
    "    binString = ''\n",
    "    while not remstack.isEmpty():\n",
    "        binString = binString + digits[remstack.pop()]   # 取相应进制组合成数字\n",
    "    return binString\n",
    "\n",
    "\n",
    "def map_index(word, n):\n",
    "    \"\"\"字符代表了10进制多少值\n",
    "    n表示该字符属于几进制\"\"\"\n",
    "    dicmap = \"0123456789ABCDEFGHIJKLMNOPQRSTUVWXYZ\"\n",
    "    if word not in dicmap:\n",
    "        return False\n",
    "    else:\n",
    "        value = dicmap.index(word)    # 取得字符表示 多少值\n",
    "        assert value <= n    # 判断该值在进制范围内，否则报错\n",
    "        return value\n",
    "    \n",
    "def transfToTen(decNumber, n=None):\n",
    "    \"\"\"任意进制(2~36)转换为10进制\n",
    "    n 表示字符的原进制\"\"\"\n",
    "    dicmap = \"0123456789ABCDEFGHIJKLMNOPQRSTUVWXYZ\"\n",
    "\n",
    "    if not n:   # 如果没有说明是几进制的，默认按10进制处理\n",
    "        n = 10\n",
    "        \n",
    "    remstack = Stack()    # 栈来处理逆序算法 \n",
    "    dec_lis = list(str(decNumber))  # 转换为字符串列表\n",
    "    destNum = 0\n",
    "    loop_n = 0\n",
    "    while len(dec_lis) > 0:\n",
    "        current_top = dec_lis.pop()   # 取得当前栈顶字符\n",
    "        real_value = map_index(current_top, n)  # 取得的字符在 原进制中表示多少值\n",
    "        sums =  real_value * (n ** loop_n)   # 计算该位置表示多少，以10进制计\n",
    "        destNum = destNum + sums  # 10进制中的总数\n",
    "        loop_n += 1      # 下一循环\n",
    "        print(f'loop_n:{loop_n}, list now:{dec_lis}')\n",
    "    print(f'source {n} num:{decNumber}, dest #10 num:{destNum}')\n",
    "    return destNum\n",
    "\n",
    "\n",
    "def transfAny(M, N, srcNum):\n",
    "    \"\"\"\n",
    "    2 <= M,N <= 36\n",
    "    本方法将 srcNum 转换为 10 进制，然后转换为 目标进制\n",
    "    :params M, 原10 进制数, 表示原数据是多少进制的\n",
    "    :params N, 目标10 进制数, 表示原数据将要转换为多少进制\n",
    "    :params srcNum\n",
    "    \"\"\"\n",
    "    src_list = list(str(srcNum))\n",
    "    ten_value = transfToTen(decNumber = srcNum, n=M) # 将原字符M进制数，转换为10进制    \n",
    "    dest_value = transform(decNumber = ten_value, dn=N)  # 将10进制转换为 目标进制 N 进制数\n",
    "    print(f'src value:{srcNum}, its ten_value:{ten_value}, final value:{dest_value}')\n",
    "    \n",
    "    return dest_value\n",
    "    \n",
    "    \n",
    "    "
   ]
  },
  {
   "cell_type": "code",
   "execution_count": 42,
   "metadata": {},
   "outputs": [
    {
     "name": "stdout",
     "output_type": "stream",
     "text": [
      "3DE\n",
      "loop_n:1, list now:['3', 'D']\n",
      "loop_n:2, list now:['3']\n",
      "loop_n:3, list now:[]\n",
      "source 16 num:3DE, dest #10 num:990\n",
      "990\n",
      "loop_n:1, list now:['3', 'D']\n",
      "loop_n:2, list now:['3']\n",
      "loop_n:3, list now:[]\n",
      "source 16 num:3DE, dest #10 num:990\n",
      "src value:3DE, its ten_value:990, final value:1111011110\n",
      "1111011110\n"
     ]
    }
   ],
   "source": [
    "\n",
    "print(transform(990, 16))\n",
    "print(transfToTen('3DE', 16))\n",
    "print(transfAny(M=16, N = 2, srcNum='3DE'))"
   ]
  },
  {
   "cell_type": "code",
   "execution_count": 2,
   "metadata": {},
   "outputs": [],
   "source": [
    "# 练习\n",
    "#1，有序队列\n",
    "# 一开始给出了一个由小写字母组成的字符串 S。我们规定每次移动中，选择最左侧的字母，将其从原位置移除，并加到字符串的末尾。这样的移动可以执行任意多次\n",
    "# \n",
    "# 返回我们移动之后可以拥有的最小字符串（注：在Python3中，字符串的大小可用不等号比较）。\n",
    "# \n",
    "# \n",
    "# \n",
    "# 输入格式:\n",
    "# \n",
    "# S。S为仅含有小写字母的字符串，长度不超过100000。\n",
    "# \n",
    "# \n",
    "# \n",
    "# 输出格式：\n",
    "# \n",
    "# 一个与S等长的字符串。\n",
    "# \n",
    "# \n",
    "# \n",
    "# 输入样例：\n",
    "# \n",
    "# \"cba\"\n",
    "# \n",
    "# \n",
    "# \n",
    "# 输出样例：\n",
    "# \n",
    "# acb\n",
    "\n"
   ]
  },
  {
   "cell_type": "code",
   "execution_count": null,
   "metadata": {},
   "outputs": [],
   "source": [
    "# 2, 计算最近的请求次数\n",
    "\"\"\"\n",
    "\n",
    "题目内容：\n",
    "\n",
    "计算每个事件发生之时，往前算10000毫秒内有多少个事件发生，包含当事件；也即对于列表中的每个元素k，算出整个列表中有多少个元素介于k-10000和k（两端均含）之间。\n",
    "输入格式:\n",
    "\n",
    "一个已排序列表mylist，所有元素为非负整数，记录各个请求的发生时间，单位为毫秒。\n",
    "\n",
    "输出格式：\n",
    "一个与mylist等长的列表。\n",
    "输入样例：\n",
    "\n",
    "[0,10,100,1000,10000,20000,100000]\n",
    "输出样例：\n",
    "\n",
    "[1,2,3,4,5,2,1]\n",
    "\"\"\""
   ]
  },
  {
   "cell_type": "code",
   "execution_count": null,
   "metadata": {},
   "outputs": [],
   "source": [
    "# 3，基数排序\n",
    "\"\"\"\n",
    "基数排序\n",
    "题目内容：\n",
    "\n",
    "实现一个基数排序算法，用于10进制的正整数从小到大的排序。\n",
    "\n",
    "思路是保持10个队列(队列0、队列1......队列9、队列main)，开始，所有的数都在main队列，没有排序。\n",
    "\n",
    "第一趟将所有的数根据其10进制个位(0~9)，放入相应的队列0~9，全放好后，按照FIFO的顺序，将每个队列的数合并排到main队列。\n",
    "\n",
    "第二趟再从main队列队首取数，根据其十位的数值，放入相应队列0~9，全放好后，仍然按照FIFO的顺序，将每个队列的数合并排到main队列。\n",
    "\n",
    "第三趟放百位，再合并；第四趟放千位，再合并。\n",
    "\n",
    "直到最多的位数放完，合并完，这样main队列里就是排好序的数列了。\n",
    "输入格式:\n",
    "\n",
    "一个列表mylist，其中mylist包含一些需要排序的正整数，正整数互不相同且均不超过100000，且个数在1至1000之间。\n",
    "输出格式：\n",
    "\n",
    "一个与mylist等长的列表。\n",
    "输入样例：\n",
    "[8, 91, 34, 22, 65, 30, 4, 55, 18]\n",
    "\n",
    "输出样例：\n",
    "\n",
    "[4, 8, 18, 22, 30, 34, 55, 65, 91]\n",
    "\"\"\""
   ]
  },
  {
   "cell_type": "code",
   "execution_count": null,
   "metadata": {},
   "outputs": [],
   "source": [
    "# 4, 汉诺塔\n",
    "\"\"\"\n",
    "四柱汉诺塔\n",
    "题目内容：\n",
    "\n",
    "如课上所说，汉诺塔问题源于印度一个古老传说。对于原始的汉诺塔游戏，可供玩家操作的空间一共只有三根柱子，导致按原传说的要求，需要超过1.8*10^19步才能解开。\n",
    "\n",
    "透过新增柱子可以大幅度地减少需要的步数。此处要求在给出指定的盘数，柱子数量为4（即限制为4根柱子）且不改变原有传说的其他规则的限制下，找出完成迁移的最小步骤数。\n",
    "\n",
    "输入格式:\n",
    "\n",
    "一个非负整数M，M代表盘数，M<=1000。\n",
    "输出格式：\n",
    "\n",
    "一个非负整数，表示完成迁移的最小步骤数。\n",
    "输入样例：\n",
    "\n",
    "3\n",
    "\n",
    "输出样例：\n",
    "\n",
    "5\n",
    "\"\"\""
   ]
  },
  {
   "cell_type": "code",
   "execution_count": null,
   "metadata": {},
   "outputs": [],
   "source": [
    "# 5, 谢尔宾斯地毯\n",
    "\"\"\"\n",
    "ASCII谢尔宾斯基地毯\n",
    "题目内容：\n",
    "谢尔宾斯基地毯是形如上图的正方形分形图案，每个地毯可分为等大小的9份，其中中央挖空，其余均由更小的地毯组成。\n",
    "\n",
    "现给定地毯大小（行数）与组成地毯的字符元素，请打印相应的地毯图形。\n",
    "\n",
    "注：空腔以半角空格表示；当给定字符元素长度不为1时空格数须与字符长度对应\n",
    "输入格式:\n",
    "\n",
    "输入为两行，分别为地毯大小正整数N与组成元素字符串c\n",
    "\n",
    "输入数据保证N为3的正整数幂\n",
    "输出格式：\n",
    "\n",
    "由N行长度为N*len(c)的字符串构成的谢尔宾斯基地毯\n",
    "输入样例：\n",
    "9\n",
    "\n",
    "[]\n",
    "输出\n",
    "[][][][][][][][][]\n",
    "[]  [][]  [][]  []\n",
    "[][][][][][][][][]\n",
    "[][][]      [][][]\n",
    "[]  []      []  []\n",
    "[][][]      [][][]\n",
    "[][][][][][][][][]\n",
    "[]  [][]  [][]  []\n",
    "[][][][][][][][][]\n",
    "\"\"\""
   ]
  },
  {
   "cell_type": "code",
   "execution_count": null,
   "metadata": {},
   "outputs": [],
   "source": [
    "#6，铺瓷砖\n",
    "\"\"\"\n",
    "铺瓷砖\n",
    "题目内容：\n",
    "\n",
    "给定一个长度为N的区域，及4种不同长度的瓷砖：灰瓷砖（长为1格）、红瓷砖（长为2格）、绿瓷砖（长为3格）与蓝瓷砖（长为4格），求所有不同的铺满整个区域的方法数。\n",
    "\n",
    "例如：当N=5时，共有15种铺满区域的方法，示意图如下：\n",
    "输入格式:\n",
    "\n",
    "一个自然数N\n",
    "输出格式：\n",
    "\n",
    "一行数字，表示不同的方法总数\n",
    "输入样例：\n",
    "\n",
    "5\n",
    "输出样例：\n",
    "\n",
    "15\n",
    "\n",
    "\"\"\""
   ]
  },
  {
   "cell_type": "code",
   "execution_count": 3,
   "metadata": {},
   "outputs": [
    {
     "data": {
      "text/plain": [
       "'\\n分发糖果\\n题目内容：\\n\\n老师想给孩子们分发糖果，有 N 个孩子站成了一条直线，老师会根据每个孩子的表现，预先给他们评分。\\n\\n你需要按照以下要求，帮助老师给这些孩子分发糖果：\\n\\n每个孩子至少分配到 1 个糖果。\\n\\n相邻的孩子中，评分高的孩子必须获得更多的糖果。\\n\\n那么这样下来，老师至少需要准备多少颗糖果呢？\\n\\n输入格式:\\n\\n一个列表，以文本格式的有效Python表达式给出\\n输出格式：\\n\\n一行数字，表示满足分配条件所需的最少糖果数\\n输入样例：\\n[1,2,2]\\n输出样例：\\n4\\n注：可行的分配方案为1、2、1 颗糖果；第三个孩子只得到1颗糖果也满足题目条件\\n\\n'"
      ]
     },
     "execution_count": 3,
     "metadata": {},
     "output_type": "execute_result"
    }
   ],
   "source": [
    "# 7,分发糖果\n",
    "\"\"\"\n",
    "分发糖果\n",
    "题目内容：\n",
    "\n",
    "老师想给孩子们分发糖果，有 N 个孩子站成了一条直线，老师会根据每个孩子的表现，预先给他们评分。\n",
    "\n",
    "你需要按照以下要求，帮助老师给这些孩子分发糖果：\n",
    "\n",
    "每个孩子至少分配到 1 个糖果。\n",
    "\n",
    "相邻的孩子中，评分高的孩子必须获得更多的糖果。\n",
    "\n",
    "那么这样下来，老师至少需要准备多少颗糖果呢？\n",
    "\n",
    "输入格式:\n",
    "\n",
    "一个列表，以文本格式的有效Python表达式给出\n",
    "输出格式：\n",
    "\n",
    "一行数字，表示满足分配条件所需的最少糖果数\n",
    "输入样例：\n",
    "[1,2,2]\n",
    "输出样例：\n",
    "4\n",
    "注：可行的分配方案为1、2、1 颗糖果；第三个孩子只得到1颗糖果也满足题目条件\n",
    "\n",
    "\"\"\""
   ]
  },
  {
   "cell_type": "code",
   "execution_count": null,
   "metadata": {},
   "outputs": [],
   "source": [
    "# 8,表达式按不同顺序求值\n",
    "\"\"\"\n",
    "表达式按不同顺序求值\n",
    "题目内容：\n",
    "\n",
    "给定一个表达式字符串，求出按不同的求值顺序可能得到的所有结果\n",
    "\n",
    "输入格式:\n",
    "\n",
    "一行字符串，仅包含0-9与运算符+、-与*\n",
    "\n",
    "注：字符串保证三种运算符左右均为数字字符\n",
    "\n",
    "输出格式：\n",
    "\n",
    "所有不重复的可能的结果，从小到大排序并以半角逗号\",\"分隔\n",
    "输入样例：\n",
    "\n",
    "2*3-4*5\n",
    "\n",
    "输出样例：\n",
    "\n",
    "-34,-14,-10,10\n",
    "\n",
    "注：\n",
    "\n",
    "(2*(3-(4*5))) = -34 \n",
    "\n",
    "((2*3)-(4*5)) = -14 \n",
    "\n",
    "((2*(3-4))*5) = -10 \n",
    "\n",
    "(2*((3-4)*5)) = -10 \n",
    "\n",
    "(((2*3)-4)*5) = 10\n",
    "\"\"\""
   ]
  },
  {
   "cell_type": "code",
   "execution_count": null,
   "metadata": {},
   "outputs": [],
   "source": [
    "# 9，快排主元\n",
    "\"\"\"\n",
    "快速排序主元（10分）\n",
    "题目内容：\n",
    "\n",
    "著名的快速排序算法里有一个经典的划分过程：我们通常采用某种方法取一个元素作为主元（中值），通过交换，把比主元小的元素放到它的左边，比主元大的元素放到它的右边。 给定划分后的N个互不相同的正整数的排列，请问有多少个元素可能是划分前选取的主元？\n",
    "\n",
    "例如给定的排列是[1, 3, 2, 4, 5]。则：\n",
    "\n",
    "1 的左边没有元素，右边的元素都比它大，所以它可能是主元；\n",
    "\n",
    "尽管 3 的左边元素都比它小，但其右边的 2 比它小，所以它不能是主元；\n",
    "\n",
    "尽管 2 的右边元素都比它大，但其左边的 3 比它大，所以它不能是主元；\n",
    "\n",
    "类似原因，4 和 5 都可能是主元。\n",
    "\n",
    "因此，有 3 个元素可能是主元。\n",
    "\n",
    "输入格式:\n",
    "\n",
    "一行数个整数的排列，由空格分隔\n",
    "输出格式：\n",
    "\n",
    "在第 1 行中输出有可能是主元的元素个数；在第 2 行中按递增顺序输出这些元素，其间以 1 个空格分隔，行首尾不得有多余空格。\n",
    "输入样例：\n",
    "\n",
    "1 3 2 4 5\n",
    "输出样例：\n",
    "\n",
    "3\n",
    "\n",
    "1 4 5\n",
    "\"\"\""
   ]
  },
  {
   "cell_type": "code",
   "execution_count": null,
   "metadata": {},
   "outputs": [],
   "source": [
    "# 10,第一个坏版本\n",
    "\"\"\"\n",
    "第一个坏版本（10分）\n",
    "题目内容：\n",
    "\n",
    "现在有同一个产品的N个版本，编号为从1至N的整数；其中从某个版本之后所有版本均已损坏。现给定一个函数isBadVersion，输入数字N可判断该版本是否损坏（若损坏将输出True）；请找出第一个损坏的版本。\n",
    "\n",
    "注：有时isBadVersion函数运行速度很慢，请注意优化查找方式\n",
    "\n",
    "输入格式:\n",
    "\n",
    "两行\n",
    "\n",
    "第一行为整数，为产品号总数N\n",
    "\n",
    "第二行为给定的判断函数，使用有效的Python表达式给出，可使用eval读取\n",
    "输出格式：\n",
    "\n",
    "一行数字，表示第一个损坏的版本\n",
    "输入样例：\n",
    "\n",
    "50\n",
    "\n",
    "lambda n:n>=30\n",
    "输出样例：\n",
    "\n",
    "30\n",
    "\"\"\""
   ]
  },
  {
   "cell_type": "code",
   "execution_count": null,
   "metadata": {},
   "outputs": [],
   "source": [
    "# 11,插入与归并\n",
    "\"\"\"\n",
    "插入与归并\n",
    "题目内容：\n",
    "\n",
    "给出如下定义：\n",
    "插入排序是迭代算法，逐一获得输入数据，逐步产生有序的输出序列。每步迭代中，算法从输入序列中取出一元素，将之插入有序序列中正确的位置。如此迭代直到全部元素有序。\n",
    "归并排序进行如下迭代操作：首先将原始序列看成 N 个只包含 1 个元素的有序子序列，然后每次迭代归并两个相邻的有序子序列，直到最后只剩下 1 个有序的序列。\n",
    "现给定原始序列和由某排序算法产生的中间序列，请你判断该算法究竟是哪种排序算法？\n",
    "\n",
    "输入格式:\n",
    "两行由空格分隔的数字，其对应长度相等的列表\n",
    "其中第一行代表未排序的列表，第二行是排序算法过程中某一步的中间列表\n",
    "\n",
    "输出格式：\n",
    "首先在第 1 行中输出Insertion Sort表示插入排序、或Merge Sort表示归并排序；然后在第 2 行中输出用该排序算法再迭代一轮的结果序列。题目保证每组测试的结果是唯一的。数字间以空格分隔，且行首尾不得有多余空格\n",
    "\n",
    "输入样例：\n",
    "3 1 2 8 7 5 9 4 0 6\n",
    "1 3 2 8 5 7 4 9 0 6\n",
    "\n",
    "输出样例：\n",
    "Merge Sort\n",
    "\n",
    "1 2 3 8 4 5 7 9 0 6\n",
    "输入样例2：\n",
    "3 1 2 8 7 5 9 4 6 0\n",
    "\n",
    "1 2 3 7 8 5 9 4 6 0\n",
    "输出样例2：\n",
    "\n",
    "Insertion Sort\n",
    "\n",
    "1 2 3 5 7 8 9 4 6 0\n",
    "\"\"\""
   ]
  },
  {
   "cell_type": "code",
   "execution_count": null,
   "metadata": {},
   "outputs": [],
   "source": []
  },
  {
   "cell_type": "code",
   "execution_count": null,
   "metadata": {},
   "outputs": [],
   "source": []
  },
  {
   "cell_type": "code",
   "execution_count": null,
   "metadata": {},
   "outputs": [],
   "source": []
  },
  {
   "cell_type": "code",
   "execution_count": null,
   "metadata": {},
   "outputs": [],
   "source": []
  },
  {
   "cell_type": "code",
   "execution_count": null,
   "metadata": {},
   "outputs": [],
   "source": []
  },
  {
   "cell_type": "code",
   "execution_count": null,
   "metadata": {},
   "outputs": [],
   "source": []
  }
 ],
 "metadata": {
  "kernelspec": {
   "display_name": "Python 3",
   "language": "python",
   "name": "python3"
  },
  "language_info": {
   "codemirror_mode": {
    "name": "ipython",
    "version": 3
   },
   "file_extension": ".py",
   "mimetype": "text/x-python",
   "name": "python",
   "nbconvert_exporter": "python",
   "pygments_lexer": "ipython3",
   "version": "3.6.8"
  }
 },
 "nbformat": 4,
 "nbformat_minor": 2
}
