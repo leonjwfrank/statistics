{
 "cells": [
  {
   "cell_type": "code",
   "execution_count": 1,
   "metadata": {},
   "outputs": [],
   "source": [
    "# py编程-网络相关\n",
    "# ipaddress\n",
    "# socket"
   ]
  },
  {
   "cell_type": "code",
   "execution_count": 3,
   "metadata": {},
   "outputs": [],
   "source": [
    "import ipaddress  # ip地址解析\n",
    "import binascii   # "
   ]
  },
  {
   "cell_type": "code",
   "execution_count": 25,
   "metadata": {},
   "outputs": [],
   "source": [
    "def addr_des(addr):\n",
    "    print('{!r}'.format(addr))\n",
    "    print('IP version:{}'.format(addr.version))\n",
    "    print('is private:{}'.format(addr.is_private))\n",
    "    print('packed form:{}'.format(binascii.hexlify(addr.packed)))\n",
    "    print('intefer:{}'.format(int(addr)))\n",
    "    print('\\n')\n",
    "\n",
    "def net_des(net):\n",
    "    print('{!r}'.format(net))\n",
    "    print('is private:{}'.format(net.is_private))\n",
    "    print('broadcast:{}'.format(net.broadcast_address))\n",
    "    print('compressed:{}'.format(net.compressed))\n",
    "    print('with netmask:{}'.fotmat(net.with_netmask))\n",
    "    print('  with hostmask:', net.with_hostmask)\n",
    "    print('  num addresses:', net.num_addresses)\n",
    "    print()"
   ]
  },
  {
   "cell_type": "code",
   "execution_count": 26,
   "metadata": {},
   "outputs": [
    {
     "name": "stdout",
     "output_type": "stream",
     "text": [
      "IPv4Address('10.9.0.6')\n",
      "IP version:4\n",
      "is private:True\n",
      "packed form:b'0a090006'\n",
      "intefer:168361990\n",
      "\n",
      "\n",
      "IPv6Address('fdfd:87b5:b475:5e3e:b1bc:e121:a8eb:14aa')\n",
      "IP version:6\n",
      "is private:True\n",
      "packed form:b'fdfd87b5b4755e3eb1bce121a8eb14aa'\n",
      "intefer:337611086560236126439725644408160982186\n",
      "\n",
      "\n"
     ]
    }
   ],
   "source": [
    "# ip地址解析\n",
    "ADDRESSES=['10.9.0.6',\n",
    "          'fdfd:87b5:b475:5e3e:b1bc:e121:a8eb:14aa',]\n",
    "for ip in ADDRESSES:\n",
    "    addr = ipaddress.ip_address(ip)\n",
    "    print('{!r}'.format(addr))\n",
    "    print('IP version:{}'.format(addr.version))\n",
    "    print('is private:{}'.format(addr.is_private))\n",
    "    print('packed form:{}'.format(binascii.hexlify(addr.packed)))\n",
    "    print('intefer:{}'.format(int(addr)))\n",
    "    print('\\n')\n",
    "    "
   ]
  },
  {
   "cell_type": "code",
   "execution_count": 37,
   "metadata": {},
   "outputs": [
    {
     "name": "stdout",
     "output_type": "stream",
     "text": [
      "IPv4Network('10.9.0.0/24')\n",
      "       is private:True\n",
      "       broadcast: 10.9.0.255\n",
      "     compressed: 10.9.0.0/24\n",
      "    with netmask: 10.9.0.0/255.255.255.0\n",
      "   with hostmask: 10.9.0.0/0.0.0.255\n",
      "   num addresses: 256\n",
      "\n",
      "IPv6Network('fdfd:87b5:b475:5e3e::/64')\n",
      "       is private:True\n",
      "       broadcast: fdfd:87b5:b475:5e3e:ffff:ffff:ffff:ffff\n",
      "     compressed: fdfd:87b5:b475:5e3e::/64\n",
      "    with netmask: fdfd:87b5:b475:5e3e::/ffff:ffff:ffff:ffff::\n",
      "   with hostmask: fdfd:87b5:b475:5e3e::/::ffff:ffff:ffff:ffff\n",
      "   num addresses: 18446744073709551616\n",
      "\n"
     ]
    }
   ],
   "source": [
    "# 网络解析  networks\n",
    "import ipaddress\n",
    "NETWORKS=['10.9.0.0/24',\n",
    "                  'fdfd:87b5:b475:5e3e::/64',]\n",
    "for n in NETWORKS:\n",
    "    net = ipaddress.ip_network(n)\n",
    "    print('{!r}'.format(net))\n",
    "    print('       is private:{}'.format(net.is_private))\n",
    "    print('       broadcast:',net.broadcast_address)\n",
    "    print('     compressed:',net.compressed)\n",
    "    print('    with netmask:',net.with_netmask)\n",
    "    print('   with hostmask:', net.with_hostmask)\n",
    "    print('   num addresses:', net.num_addresses)\n",
    "    print()\n",
    " "
   ]
  },
  {
   "cell_type": "code",
   "execution_count": 47,
   "metadata": {},
   "outputs": [
    {
     "name": "stdout",
     "output_type": "stream",
     "text": [
      "IPv4Network('10.9.0.0/30')\n",
      "10.9.0.0\n",
      "\n",
      "10.9.0.1\n",
      "\n",
      "10.9.0.2\n",
      "\n",
      "10.9.0.3\n",
      "\n",
      "10.9.0.1\n",
      "10.9.0.2\n",
      "\n",
      "IPv6Network('fdfd:87b5:b475:5e3e::/64')\n",
      "fdfd:87b5:b475:5e3e::\n",
      "\n",
      "fdfd:87b5:b475:5e3e::1\n",
      "\n",
      "fdfd:87b5:b475:5e3e::2\n",
      "\n",
      "fdfd:87b5:b475:5e3e::3\n",
      "\n",
      "fdfd:87b5:b475:5e3e::4\n",
      "\n",
      "fdfd:87b5:b475:5e3e::5\n",
      "\n",
      "fdfd:87b5:b475:5e3e::6\n",
      "\n",
      "fdfd:87b5:b475:5e3e::7\n",
      "\n",
      "fdfd:87b5:b475:5e3e::8\n",
      "\n",
      "fdfd:87b5:b475:5e3e::9\n",
      "\n",
      "fdfd:87b5:b475:5e3e::a\n",
      "\n",
      "fdfd:87b5:b475:5e3e::b\n",
      "\n",
      "fdfd:87b5:b475:5e3e::c\n",
      "\n",
      "fdfd:87b5:b475:5e3e::d\n",
      "\n",
      "fdfd:87b5:b475:5e3e::e\n",
      "\n",
      "fdfd:87b5:b475:5e3e::f\n",
      "\n",
      "fdfd:87b5:b475:5e3e::1\n",
      "fdfd:87b5:b475:5e3e::2\n",
      "fdfd:87b5:b475:5e3e::3\n",
      "fdfd:87b5:b475:5e3e::4\n",
      "fdfd:87b5:b475:5e3e::5\n",
      "fdfd:87b5:b475:5e3e::6\n",
      "fdfd:87b5:b475:5e3e::7\n",
      "fdfd:87b5:b475:5e3e::8\n",
      "fdfd:87b5:b475:5e3e::9\n",
      "fdfd:87b5:b475:5e3e::a\n",
      "fdfd:87b5:b475:5e3e::b\n",
      "fdfd:87b5:b475:5e3e::c\n",
      "fdfd:87b5:b475:5e3e::d\n",
      "fdfd:87b5:b475:5e3e::e\n",
      "fdfd:87b5:b475:5e3e::f\n",
      "fdfd:87b5:b475:5e3e::10\n",
      "\n"
     ]
    }
   ],
   "source": [
    "# 网络子网地址显示\n",
    "import ipaddress\n",
    "NETWORKS = [\n",
    "         '10.9.0.0/30',\n",
    "         'fdfd:87b5:b475:5e3e::/64',\n",
    "     ]\n",
    "for n in NETWORKS:\n",
    "    net = ipaddress.ip_network(n)\n",
    "    print('{!r}'.format(net))\n",
    "    for i, ip in zip(range(16), net):  # 显示该子网前256个地址，包括网络地址和广播地址\n",
    "        print(ip)\n",
    "        print()\n",
    "    for i, ip_host in zip(range(16), net.hosts()):  # 显示该网段的主机地址\n",
    "        print(ip_host)\n",
    "    print()"
   ]
  },
  {
   "cell_type": "code",
   "execution_count": 52,
   "metadata": {},
   "outputs": [
    {
     "name": "stdout",
     "output_type": "stream",
     "text": [
      "10.9.0.6 is on 10.9.0.0/24 \n",
      " \n",
      "10.7.0.31 is not on a known network \n",
      "\n",
      "10.7.0.31 is not on a known network \n",
      "\n",
      "fdfd:87b5:b475:5e3e:b1bc:e121:a8eb:14aa is not on a known network \n",
      "\n",
      "fdfd:87b5:b475:5e3e:b1bc:e121:a8eb:14aa is on fdfd:87b5:b475:5e3e::/64 \n",
      " \n",
      "fe80::3840:c439:b25e:63b0 is not on a known network \n",
      "\n",
      "fe80::3840:c439:b25e:63b0 is not on a known network \n",
      "\n",
      "\n"
     ]
    }
   ],
   "source": [
    "# 判定一组地址是否在某个网段中\n",
    "import ipaddress\n",
    "NETWORKS = [\n",
    "ipaddress.ip_network('10.9.0.0/24'), ipaddress.ip_network('fdfd:87b5:b475:5e3e::/64'),\n",
    "]\n",
    "\n",
    "ADDRESSES = [\n",
    "         ipaddress.ip_address('10.9.0.6'),\n",
    "         ipaddress.ip_address('10.7.0.31'),\n",
    "         ipaddress.ip_address('fdfd:87b5:b475:5e3e:b1bc:e121:a8eb:14aa' ),\n",
    "ipaddress.ip_address('fe80::3840:c439:b25e:63b0'), ]\n",
    "\n",
    "for ip in ADDRESSES:\n",
    "    for net in NETWORKS:\n",
    "        if ip in net:\n",
    "            print('{} is on {} \\n '.format(ip, net))\n",
    "            break\n",
    "        else:\n",
    "            print('{} is not on a known network \\n'.format(ip))\n",
    "print()"
   ]
  },
  {
   "cell_type": "code",
   "execution_count": 56,
   "metadata": {},
   "outputs": [
    {
     "name": "stdout",
     "output_type": "stream",
     "text": [
      "IPv4Interface('10.9.0.6/24')\n",
      "network:\n",
      "  10.9.0.0/24\n",
      "ip:\n",
      "  10.9.0.6\n",
      "IP with prefixlen:\n",
      "  10.9.0.6/24\n",
      "netmask:\n",
      "  10.9.0.6/255.255.255.0\n",
      "hostmask:\n",
      "  10.9.0.6/0.0.0.255\n",
      "\n",
      "IPv6Interface('fdfd:87b5:b475:5e3e:b1bc:e121:a8eb:14aa/64')\n",
      "network:\n",
      "  fdfd:87b5:b475:5e3e::/64\n",
      "ip:\n",
      "  fdfd:87b5:b475:5e3e:b1bc:e121:a8eb:14aa\n",
      "IP with prefixlen:\n",
      "  fdfd:87b5:b475:5e3e:b1bc:e121:a8eb:14aa/64\n",
      "netmask:\n",
      "  fdfd:87b5:b475:5e3e:b1bc:e121:a8eb:14aa/ffff:ffff:ffff:ffff::\n",
      "hostmask:\n",
      "  fdfd:87b5:b475:5e3e:b1bc:e121:a8eb:14aa/::ffff:ffff:ffff:ffff\n",
      "\n"
     ]
    }
   ],
   "source": [
    "# 端口 interfaces\n",
    "import ipaddress\n",
    "ADDRESSES = [\n",
    "         '10.9.0.6/24',\n",
    "'fdfd:87b5:b475:5e3e:b1bc:e121:a8eb:14aa/64', ]\n",
    "\n",
    "for ip in ADDRESSES:\n",
    "    iface = ipaddress.ip_interface(ip) \n",
    "    print('{!r}'.format(iface))\n",
    "    print('network:\\n ', iface.network)\n",
    "    print('ip:\\n ', iface.ip)\n",
    "    print('IP with prefixlen:\\n ', iface.with_prefixlen) \n",
    "    print('netmask:\\n ', iface.with_netmask) \n",
    "    print('hostmask:\\n ', iface.with_hostmask)\n",
    "    print()"
   ]
  },
  {
   "cell_type": "code",
   "execution_count": null,
   "metadata": {},
   "outputs": [],
   "source": [
    "# socket \n",
    "# 套接字库的基本用法，网络通信\n",
    "# 低级c库 BSD 套接字接口，包括 socket 类， handing  actual data channel  \n",
    "# 网络相关(network-related) 的任务 如，主机名和地址转换，在网络传输格式化数据\n"
   ]
  },
  {
   "cell_type": "code",
   "execution_count": 62,
   "metadata": {},
   "outputs": [
    {
     "name": "stdout",
     "output_type": "stream",
     "text": [
      "fwkdeMacBook-Pro.local\n",
      "socket error apu : [Errno 8] nodename nor servname provided, or not known\n",
      "\n",
      "ERROR: [Errno 8] nodename nor servname provided, or not known\n",
      "\n",
      "       apu : apu\n",
      "socket error pymotw.com : [Errno 8] nodename nor servname provided, or not known\n",
      "\n",
      "ERROR: [Errno 8] nodename nor servname provided, or not known\n",
      "\n",
      "pymotw.com : pymotw.com\n",
      "socket error www.python.org : [Errno 8] nodename nor servname provided, or not known\n",
      "\n",
      "ERROR: [Errno 8] nodename nor servname provided, or not known\n",
      "\n",
      "www.python.org : www.python.org\n",
      "socket error nosuchname : [Errno 8] nodename nor servname provided, or not known\n",
      "\n",
      "ERROR: [Errno 8] nodename nor servname provided, or not known\n",
      "\n",
      "nosuchname : nosuchname\n"
     ]
    }
   ],
   "source": [
    "# 地址，协议家族，套接字类型\n",
    "# python支持三种ip协议类型。\n",
    "# AF_INET   ipv4\n",
    "# AF_INET6\n",
    "# AF_UNIX\n",
    "# 例 1 ，在网络上查看主机名 Hosts o the Network\n",
    "import socket\n",
    "print(socket.gethostname())    # 获取主机名\n",
    "\n",
    "HOSTS = [\n",
    "    'apu',\n",
    "    'pymotw.com',\n",
    "    'www.python.org',\n",
    "    'nosuchname',\n",
    "]\n",
    "\n",
    "for host in HOSTS:\n",
    "    try:\n",
    "        print('{} : {}'.format(host, socket.gethostbyname(host)))    #解析网络主机的ip地址和名称等等\n",
    "    except socket.error as msg:\n",
    "        print('socket error {} : {}'.format(host, msg))\n",
    "    \n",
    "    print('')\n",
    "    \n",
    "    try:\n",
    "        name, aliases, addresses = socket.gethostbyname_ex(host)   \n",
    "        # 关于主机的更多信息，某些域名下面可能绑定了多个ip地址，gethostbyname_ex可以全部显示\n",
    "        print(' Hostname:', name)\n",
    "        print(' Aliases :', aliases)\n",
    "        print(' Addresses:', addresses)\n",
    "    except socket.error as msg:\n",
    "        print('ERROR:', msg)\n",
    "    print()\n",
    "    \n",
    "    print('{:>10} : {}'.format(host, socket.getfqdn(host)))   # getfqdn 函数返回 host域名对应的所有可用域名"
   ]
  },
  {
   "cell_type": "code",
   "execution_count": 64,
   "metadata": {},
   "outputs": [
    {
     "ename": "herror",
     "evalue": "[Errno 1] Unknown host",
     "output_type": "error",
     "traceback": [
      "\u001b[0;31m---------------------------------------------------------------------------\u001b[0m",
      "\u001b[0;31mherror\u001b[0m                                    Traceback (most recent call last)",
      "\u001b[0;32m<ipython-input-64-148efc8f3b1f>\u001b[0m in \u001b[0;36m<module>\u001b[0;34m\u001b[0m\n\u001b[1;32m      1\u001b[0m \u001b[0;31m# 通过ip地址获取域名\u001b[0m\u001b[0;34m\u001b[0m\u001b[0;34m\u001b[0m\u001b[0;34m\u001b[0m\u001b[0m\n\u001b[1;32m      2\u001b[0m \u001b[0;32mimport\u001b[0m \u001b[0msocket\u001b[0m\u001b[0;34m\u001b[0m\u001b[0;34m\u001b[0m\u001b[0m\n\u001b[0;32m----> 3\u001b[0;31m \u001b[0mhostname\u001b[0m\u001b[0;34m,\u001b[0m \u001b[0maliases\u001b[0m\u001b[0;34m,\u001b[0m \u001b[0maddresses\u001b[0m \u001b[0;34m=\u001b[0m \u001b[0msocket\u001b[0m\u001b[0;34m.\u001b[0m\u001b[0mgethostbyaddr\u001b[0m\u001b[0;34m(\u001b[0m\u001b[0;34m'10.9.0.10'\u001b[0m\u001b[0;34m)\u001b[0m  \u001b[0;31m# 根据host获取ip地址\u001b[0m\u001b[0;34m\u001b[0m\u001b[0;34m\u001b[0m\u001b[0m\n\u001b[0m\u001b[1;32m      4\u001b[0m \u001b[0;34m\u001b[0m\u001b[0m\n\u001b[1;32m      5\u001b[0m \u001b[0mprint\u001b[0m\u001b[0;34m(\u001b[0m\u001b[0;34m'Hostname:{}'\u001b[0m\u001b[0;34m.\u001b[0m\u001b[0mformat\u001b[0m\u001b[0;34m(\u001b[0m\u001b[0mhostname\u001b[0m\u001b[0;34m)\u001b[0m\u001b[0;34m)\u001b[0m\u001b[0;34m\u001b[0m\u001b[0;34m\u001b[0m\u001b[0m\n",
      "\u001b[0;31mherror\u001b[0m: [Errno 1] Unknown host"
     ]
    }
   ],
   "source": [
    "# 通过ip地址获取域名\n",
    "import socket\n",
    "hostname, aliases, addresses = socket.gethostbyaddr('10.9.0.10')  # 根据host获取ip地址\n",
    "\n",
    "print('Hostname:{}'.format(hostname))\n",
    "print('Aliases    :{}'.format(aliases))\n",
    "print('Addresses:{}'.format(addresses))\n"
   ]
  },
  {
   "cell_type": "code",
   "execution_count": 65,
   "metadata": {},
   "outputs": [
    {
     "name": "stdout",
     "output_type": "stream",
     "text": [
      "  http : 80\n",
      " https : 443\n",
      "   ftp : 21\n",
      "gopher : 70\n",
      "  smtp : 25\n",
      "  imap : 143\n",
      " imaps : 993\n",
      "  pop3 : 110\n",
      " pop3s : 995\n"
     ]
    }
   ],
   "source": [
    "# 获取服务器信息，从url判定服务器类型\n",
    "import  socket\n",
    "from urllib.parse import urlparse    # urlparse    从url语法上分析或描述\n",
    "URLS = [\n",
    "         'http://www.python.org',\n",
    "         'https://www.mybank.com',\n",
    "         'ftp://prep.ai.mit.edu',\n",
    "         'gopher://gopher.micro.umn.edu',\n",
    "         'smtp://mail.example.com',\n",
    "         'imap://mail.example.com',\n",
    "         'imaps://mail.example.com',\n",
    "         'pop3://pop.example.com',\n",
    "         'pop3s://pop.example.com',\n",
    "]\n",
    "for url in URLS:\n",
    "    parsed_url = urlparse(url)\n",
    "    port = socket.getservbyname(parsed_url.scheme) \n",
    "    print('{:>6} : {}'.format(parsed_url.scheme, port))  # 显示服务器地址的端口协议等信息"
   ]
  },
  {
   "cell_type": "code",
   "execution_count": 66,
   "metadata": {},
   "outputs": [
    {
     "name": "stdout",
     "output_type": "stream",
     "text": [
      "http://example.com/\n",
      "https://example.com/\n",
      "ftp://example.com/\n",
      "gopher://example.com/\n",
      "smtp://example.com/\n",
      "imap://example.com/\n",
      "imaps://example.com/\n",
      "pop3://example.com/\n",
      "pop3s://example.com/\n"
     ]
    }
   ],
   "source": [
    "# 从常用端口类型判定服务器类型\n",
    "import socket\n",
    "from urllib.parse import urlunparse    # urlunparse   不 从url语法上分析或描述\n",
    "for port in [80, 443, 21, 70, 25, 143, 993, 110, 995]:    # 从常用端口来判定 服务器属于哪个类型\n",
    "    url = '{}://example.com/'.format(socket.getservbyport(port)) \n",
    "    print(url)"
   ]
  },
  {
   "cell_type": "code",
   "execution_count": 73,
   "metadata": {},
   "outputs": [
    {
     "name": "stdout",
     "output_type": "stream",
     "text": [
      "icmp ->  1 (socket.IPPROTO_ICMP =  1)\n",
      " udp -> 17 (socket.IPPROTO_UDP  = 17)\n",
      " tcp ->  6 (socket.IPPROTO_TCP  =  6)\n"
     ]
    }
   ],
   "source": [
    "#\n",
    "import socket\n",
    "def get_constants(prefix):\n",
    "         \"\"\"Create a dictionary mapping socket module\n",
    "         constants to their names.\n",
    "         \"\"\"\n",
    "         return {\n",
    "             getattr(socket, n): n   # 获得\n",
    "             for n in dir(socket)\n",
    "             if n.startswith(prefix)\n",
    "}\n",
    "protocols = get_constants('IPPROTO_')  # proto 协议名称\n",
    "for name in ['icmp', 'udp', 'tcp']:\n",
    "    proto_num = socket.getprotobyname(name)\n",
    "    const_name = protocols[proto_num]\n",
    "    print('{:>4} -> {:2d} (socket.{:<12} = {:2d})'.format(\n",
    "        name, proto_num, const_name,\n",
    "        getattr(socket, const_name)))        "
   ]
  },
  {
   "cell_type": "code",
   "execution_count": 74,
   "metadata": {},
   "outputs": [
    {
     "name": "stdout",
     "output_type": "stream",
     "text": [
      "{<AddressFamily.AF_APPLETALK: 16>: 'AF_APPLETALK', 12: 'AF_DECnet', <AddressFamily.AF_INET: 2>: 'AF_INET', <AddressFamily.AF_INET6: 30>: 'AF_INET6', <AddressFamily.AF_IPX: 23>: 'AF_IPX', <AddressFamily.AF_LINK: 18>: 'AF_LINK', <AddressFamily.AF_ROUTE: 17>: 'AF_ROUTE', <AddressFamily.AF_SNA: 11>: 'AF_SNA', <AddressFamily.AF_SYSTEM: 32>: 'AF_SYSTEM', <AddressFamily.AF_UNIX: 1>: 'AF_UNIX', <AddressFamily.AF_UNSPEC: 0>: 'AF_UNSPEC'}\n"
     ]
    }
   ],
   "source": [
    "import socket\n",
    "print({getattr(socket, n): n   # 获得\n",
    "for n in dir(socket)\n",
    "if n.startswith('AF_')})"
   ]
  },
  {
   "cell_type": "code",
   "execution_count": 4,
   "metadata": {},
   "outputs": [
    {
     "name": "stdout",
     "output_type": "stream",
     "text": [
      "Family              : AF_INET6\n",
      "Type                : SOCK_DGRAM\n",
      "Protocol           : IPPROTO_UDP\n",
      "Canonical name: \n",
      "Socket address: ('2a04:4e42:12::223', 80, 0, 0)\n",
      "\n",
      "Family              : AF_INET6\n",
      "Type                : SOCK_STREAM\n",
      "Protocol           : IPPROTO_TCP\n",
      "Canonical name: \n",
      "Socket address: ('2a04:4e42:12::223', 80, 0, 0)\n",
      "\n",
      "Family              : AF_INET\n",
      "Type                : SOCK_DGRAM\n",
      "Protocol           : IPPROTO_UDP\n",
      "Canonical name: \n",
      "Socket address: ('151.101.76.223', 80)\n",
      "\n",
      "Family              : AF_INET\n",
      "Type                : SOCK_STREAM\n",
      "Protocol           : IPPROTO_TCP\n",
      "Canonical name: \n",
      "Socket address: ('151.101.76.223', 80)\n",
      "\n"
     ]
    }
   ],
   "source": [
    "# 查询服务器地址信息\n",
    "import socket\n",
    "families = get_constants('AF_')\n",
    "types = get_constants('SOCK_')\n",
    "protocols = get_constants('IPPROTO_')\n",
    "\n",
    "for response in socket.getaddrinfo('www.python.org', 'http'):\n",
    "    \n",
    "         # Unpack the response tuple.\n",
    "        family, socktype, proto, canonname, sockaddr = response\n",
    "        print('Family              :', families[family])\n",
    "        print('Type                :', types[socktype])\n",
    "        print('Protocol           :', protocols[proto])\n",
    "        print('Canonical name:', canonname)\n",
    "        print('Socket address:', sockaddr)\n",
    "        print()"
   ]
  },
  {
   "cell_type": "code",
   "execution_count": 2,
   "metadata": {},
   "outputs": [
    {
     "name": "stdout",
     "output_type": "stream",
     "text": [
      "Family             : AF_INET\n",
      "Type               : SOCK_STREAM\n",
      "Protocol          : IPPROTO_TCP\n",
      "Canonical name: wstv.info\n",
      "Socket address: ('104.28.6.3', 80)\n",
      "\n"
     ]
    }
   ],
   "source": [
    "import socket\n",
    "\n",
    "def get_constants(prefix):\n",
    "    \"\"\"Create a dictionary mapping socket module constants to their names.\"\"\"\n",
    "    return {getattr(socket, n): n\n",
    "             for n in dir(socket)\n",
    "             if n.startswith(prefix)}\n",
    "families = get_constants('AF_')\n",
    "types = get_constants('SOCK_')\n",
    "protocols = get_constants('IPPROTO_')\n",
    "\n",
    "responses = socket.getaddrinfo(\n",
    "    host='wstv.info',\n",
    "    port='http',\n",
    "    family=socket.AF_INET,\n",
    "    type=socket.SOCK_STREAM,\n",
    "    proto=socket.IPPROTO_TCP,\n",
    "    flags=socket.AI_CANONNAME,\n",
    ")\n",
    "\n",
    "for response in responses:\n",
    "    # Unpack the response tuple.\n",
    "    family, socktype, proto, canonname, sockaddr = response\n",
    "    print('Family             :',families[family])\n",
    "    print('Type               :',types[socktype])\n",
    "    print('Protocol          :',protocols[proto])\n",
    "    print('Canonical name:', canonname)\n",
    "    print('Socket address:', sockaddr)\n",
    "    print()"
   ]
  },
  {
   "cell_type": "code",
   "execution_count": 10,
   "metadata": {},
   "outputs": [
    {
     "name": "stdout",
     "output_type": "stream",
     "text": [
      "string_addr:2002:ac10:10a:1234:21e:52ff:fe74:40e\n",
      "string_addr pack:b' \\x02\\xac\\x10\\x01\\n\\x124\\x02\\x1eR\\xff\\xfet\\x04\\x0e'\n",
      "Original addr: 2002:ac10:10a:1234:21e:52ff:fe74:40e\n",
      "Pack : b'2002ac10010a1234021e52fffe74040e'\n",
      "Unpacked pack: 2002:ac10:10a:1234:21e:52ff:fe74:40e\n",
      "\n",
      "Original: 192.168.1.1\n",
      "Packed : b'c0a80101'\n",
      "Unpacked: 192.168.1.1\n",
      "\n",
      "Original: 127.0.0.1\n",
      "Packed : b'7f000001'\n",
      "Unpacked: 127.0.0.1\n",
      "\n"
     ]
    }
   ],
   "source": [
    "# ip 地址交互 转换\n",
    "import binascii\n",
    "import socket\n",
    "import struct\n",
    "import sys\n",
    "string_addr = '2002:ac10:10a:1234:21e:52ff:fe74:40e'\n",
    "print(f'string_addr:{string_addr}')\n",
    "pack = socket.inet_pton(socket.AF_INET6, string_addr)\n",
    "print(f'string_addr pack:{pack}')\n",
    "\n",
    "print('Original addr:', string_addr)\n",
    "print('Pack :', binascii.hexlify(pack)) \n",
    "print('Unpacked pack:', socket.inet_ntop(socket.AF_INET6, pack))\n",
    "# print('Unpacked pack v4:', socket.inet_ntop(socket.AF_INET, pack))   # ipv6 转ipv4\n",
    "print()\n",
    "\n",
    "for string_address in ['192.168.1.1', '127.0.0.1']: \n",
    "    packed = socket.inet_aton(string_address) \n",
    "    print('Original:', string_address) \n",
    "    print('Packed :', binascii.hexlify(packed)) \n",
    "    print('Unpacked:', socket.inet_ntoa(packed)) \n",
    "    print()"
   ]
  },
  {
   "cell_type": "code",
   "execution_count": 9,
   "metadata": {},
   "outputs": [
    {
     "name": "stdout",
     "output_type": "stream",
     "text": [
      "[192, 168, 0, 12]\n",
      "2002:192:168:0:12::\n",
      "2002:ffff:192:168:0:12\n"
     ]
    }
   ],
   "source": [
    "# ip地址转换，ipv4 -> ipv6\n",
    "ipaddr = '192.168.0.12'\n",
    "numb = list(map(int, ipaddr.split('.')))\n",
    "print(f'{numb}')\n",
    "# print(f'{*numb})\n",
    "print('2002:{}:{}:{}:{}::'.format(*numb))\n",
    "print('2002:ffff:{}:{}:{}:{}'.format(*numb))"
   ]
  },
  {
   "cell_type": "code",
   "execution_count": null,
   "metadata": {},
   "outputs": [],
   "source": [
    "# socket 的 TCP/IP 客户端和服务端\n",
    "# 回显服务器  Echo Server\n",
    "import socket\n",
    "import sys\n",
    "# Create a TCP/IP socket\n",
    "sock = socket.socket(socket.AF_INET, socket.SOCK_STREAM)\n",
    "\n",
    "# Bind the socket to the port\n",
    "server_address = ('localhost', 10000)\n",
    "print('starting up on {} port {}'.format(*server_address))\n",
    "sock.bind(server_address)\n",
    "\n",
    "# Listen for incoming connections.\n",
    "sock.listen(1)\n",
    "while True:\n",
    "    # Wait for a connection.\n",
    "    print('waiting for a connection')\n",
    "    connection,client_address = sock.accept()\n",
    "    try:\n",
    "        print('connection from'.format(client_address))\n",
    "        \n",
    "        # Receive the data in small chunks and retransmit it.\n",
    "        while True:\n",
    "            data = connection.recv(16)\n",
    "            print('received {!r}'.format(data))\n",
    "            if data:\n",
    "                print('sending data back to the client')\n",
    "                connection.sendall(data)\n",
    "            else:\n",
    "                print('no data from', client_address)\n",
    "                break\n",
    "    finally:\n",
    "        # Clean up the connection.\n",
    "        # 保证关闭连接This example uses a try:finally block to ensure that close() is always called, even in the event of an error.\n",
    "        connection.close()\n",
    "        "
   ]
  },
  {
   "cell_type": "code",
   "execution_count": null,
   "metadata": {},
   "outputs": [],
   "source": [
    "# Echo client\n",
    "import socket\n",
    "import sys\n",
    "# Create a TCP/IP socket\n",
    "sock = socket.socket(socket.AF_INET, socket.SOCK_STREAM)\n",
    "\n",
    "# Connect the socket to the port where the server is listening.\n",
    "server_address = ('localhost',10000)\n",
    "print('connecting to {} port {}'.format(*server_address))\n",
    "sock.connect(server_address)\n",
    "\n",
    "try:\n",
    "    # send data\n",
    "    message = b'This is the message. It will be repeated.'\n",
    "    print('sending {!r}'.format(message))\n",
    "    sock.sendall(message)\n",
    "    \n",
    "    # Look for the response.\n",
    "    amount_received = 0\n",
    "    amount_expected = len(message)\n",
    "    \n",
    "    while amount_received  < amount_expected:\n",
    "        data = sock.recv(16)  # 每次接受16字节\n",
    "        amount_received += len(data)\n",
    "        print('received {!r}'.format(data))\n",
    "finally:\n",
    "    print('closing socket')\n",
    "    print(f'receive data:{data}')\n",
    "    sock.close()\n",
    "    "
   ]
  },
  {
   "cell_type": "code",
   "execution_count": null,
   "metadata": {},
   "outputs": [],
   "source": [
    "# 客户端连接 Easy Ckient Connections\n",
    "import socket\n",
    "import sys\n",
    "\n",
    "def get_constants(prefix):\n",
    "    \"\"\"Create a dictionary mapping socket module\n",
    "         constants to their names.\n",
    "         \"\"\"\n",
    "    return {\n",
    "             getattr(socket, n): n\n",
    "             for n in dir(socket)\n",
    "             if n.startswith(prefix)\n",
    "    }\n",
    "families = get_constants('AF_')\n",
    "types = get_constants('SOCK_')\n",
    "protocols = get_constants('IPPROTO_')\n",
    "\n",
    "# Create a TCP/IP socket.\n",
    "sock = socket.create_connection(('localhost', 10001))\n",
    "print('Family  :', families[sock.family])\n",
    "print('Type    :', types[sock.type])\n",
    "print('Protocol:', protocols[sock.proto])\n",
    "print()\n",
    "\n",
    "try:\n",
    "        # Send data.\n",
    "        message = b'This is the message. It will be repeated.'\n",
    "        print('sending {!r}'.format(message)) \n",
    "        sock.sendall(message)\n",
    "        amount_received = 0\n",
    "        amount_expected = len(message)\n",
    "        datas = b''\n",
    "        while amount_received < amount_expected:\n",
    "            data = sock.recv(16)  # 每次接受16字节\n",
    "            amount_received += len(data)\n",
    "            print('received {!r}'.format(data))\n",
    "            datas += data\n",
    "        print(f'receive data:{type(datas), datas}')\n",
    "finally:\n",
    "    print('closing socket')\n",
    "\n",
    "    sock.close()"
   ]
  },
  {
   "cell_type": "code",
   "execution_count": null,
   "metadata": {},
   "outputs": [],
   "source": [
    "Family  : AF_INET\n",
    "Type    : SOCK_STREAM\n",
    "Protocol: IPPROTO_TCP\n",
    "    "
   ]
  },
  {
   "cell_type": "code",
   "execution_count": 1,
   "metadata": {},
   "outputs": [
    {
     "name": "stdout",
     "output_type": "stream",
     "text": [
      "in child, waiting for message\n",
      "message from parent: b'ping'\n",
      "in parent, sneding message\n",
      "response from child: b'pong'\n"
     ]
    }
   ],
   "source": [
    "# socket 父进程与子进程通信\n",
    "import socket\n",
    "import os\n",
    "parent, child = socket.socketpair()\n",
    "\n",
    "pid = os.fork()\n",
    "if pid:\n",
    "    print('in parent, sneding message')\n",
    "    child.close()\n",
    "    parent.sendall(b'ping')\n",
    "    response = parent.recv(1024)\n",
    "    print('response from child:', response)\n",
    "    parent.close()\n",
    "else:\n",
    "    print('in child, waiting for message')\n",
    "    parent.close()\n",
    "    message = child.recv(1024)\n",
    "    print('message from parent:', message)\n",
    "    child.sendall(b'pong')\n",
    "    child.close()"
   ]
  },
  {
   "cell_type": "code",
   "execution_count": null,
   "metadata": {},
   "outputs": [],
   "source": []
  },
  {
   "cell_type": "code",
   "execution_count": null,
   "metadata": {},
   "outputs": [],
   "source": []
  },
  {
   "cell_type": "code",
   "execution_count": null,
   "metadata": {},
   "outputs": [],
   "source": []
  },
  {
   "cell_type": "code",
   "execution_count": null,
   "metadata": {},
   "outputs": [],
   "source": []
  },
  {
   "cell_type": "code",
   "execution_count": null,
   "metadata": {},
   "outputs": [],
   "source": []
  },
  {
   "cell_type": "code",
   "execution_count": null,
   "metadata": {},
   "outputs": [],
   "source": []
  },
  {
   "cell_type": "code",
   "execution_count": null,
   "metadata": {},
   "outputs": [],
   "source": []
  },
  {
   "cell_type": "code",
   "execution_count": null,
   "metadata": {},
   "outputs": [],
   "source": []
  },
  {
   "cell_type": "code",
   "execution_count": null,
   "metadata": {},
   "outputs": [],
   "source": []
  },
  {
   "cell_type": "code",
   "execution_count": null,
   "metadata": {},
   "outputs": [],
   "source": []
  }
 ],
 "metadata": {
  "kernelspec": {
   "display_name": "Python 3",
   "language": "python",
   "name": "python3"
  },
  "language_info": {
   "codemirror_mode": {
    "name": "ipython",
    "version": 3
   },
   "file_extension": ".py",
   "mimetype": "text/x-python",
   "name": "python",
   "nbconvert_exporter": "python",
   "pygments_lexer": "ipython3",
   "version": "3.6.8"
  }
 },
 "nbformat": 4,
 "nbformat_minor": 2
}
